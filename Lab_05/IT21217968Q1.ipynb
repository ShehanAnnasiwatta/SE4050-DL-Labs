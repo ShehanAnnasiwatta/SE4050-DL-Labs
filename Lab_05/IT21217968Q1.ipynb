{
  "nbformat": 4,
  "nbformat_minor": 0,
  "metadata": {
    "colab": {
      "provenance": []
    },
    "kernelspec": {
      "name": "python3",
      "display_name": "Python 3"
    },
    "language_info": {
      "name": "python"
    }
  },
  "cells": [
    {
      "cell_type": "markdown",
      "source": [
        "# **Task 1 - Implement a Simple RNN to Predict the Next Value in a Small Sequence of Numbers**\n",
        "\n",
        "***Read the following descriptions and instructions***\n",
        "\n",
        "In time-series analysis, predicting future values based on past observations is a fundamental task. Recurrent Neural Networks (RNNs) are particularly well-suited for this type of problem due to their ability to maintain a memory of previous inputs through their recurrent connections.\n",
        "\n",
        "In this task, you will work with a synthetic dataset that represents a simple sine wave. The sine wave is a periodic function and serves as a good example to understand how RNNs can capture patterns and make predictions.\n",
        "\n",
        "A **sine wave** is a fundamental waveform that is widely used in various fields, including signal processing, physics, and time-series analysis. It is characterized by its smooth, periodic oscillations, making it an ideal example for understanding time-series prediction tasks.![11.jpg](data:image/jpeg;base64,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)"
      ],
      "metadata": {
        "id": "cgEuqA--9s-A"
      }
    },
    {
      "cell_type": "code",
      "execution_count": 1,
      "metadata": {
        "id": "V6BtPqU13d76"
      },
      "outputs": [],
      "source": [
        "import numpy as np\n",
        "import tensorflow as tf\n",
        "from tensorflow.keras.models import Sequential\n",
        "from tensorflow.keras.layers import SimpleRNN, Dense\n",
        "from sklearn.preprocessing import MinMaxScaler\n",
        "import matplotlib.pyplot as plt"
      ]
    },
    {
      "cell_type": "markdown",
      "source": [
        "The generate_sine_wave function generates a synthetic sine wave dataset, which is often used in time-series prediction tasks, particularly for training models like RNNs and LSTMs.\n",
        "\n",
        "\n",
        "**seq_length=100**: This parameter is intended to specify the length of the sequence that you want to generate\n",
        "\n",
        "**num_samples=1000**:This parameter determines the number of data points (samples) to generate for the sine wave."
      ],
      "metadata": {
        "id": "nUa_cweR-K02"
      }
    },
    {
      "cell_type": "code",
      "source": [
        "# 1. Generate a Synthetic Sine Wave Dataset\n",
        "def generate_sine_wave(seq_length=100, num_samples=1000):\n",
        "    x = np.linspace(0, 50, num_samples)\n",
        "    y = np.sin(x)\n",
        "    return y\n"
      ],
      "metadata": {
        "id": "vOQ6vo_I7u7w"
      },
      "execution_count": 28,
      "outputs": []
    },
    {
      "cell_type": "markdown",
      "source": [
        "The create_dataset function prepares the sine wave data for use in an RNN by converting the continuous data into sequences that the RNN can learn from. The time_step parameter in the create_dataset function represents the number of previous time points (or observations) that are used as input to predict the next time point in a sequence."
      ],
      "metadata": {
        "id": "met--MGJ-wQA"
      }
    },
    {
      "cell_type": "code",
      "source": [
        "# 2. Prepare the Dataset for RNN\n",
        "def create_dataset(data, time_step=10):\n",
        "    X, y = [], []\n",
        "    for i in range(len(data) - time_step - 1):\n",
        "        X.append(data[i:(i + time_step)])\n",
        "        y.append(data[i + time_step])\n",
        "    return np.array(X), np.array(y)"
      ],
      "metadata": {
        "id": "uaG2dnUV7xrn"
      },
      "execution_count": 29,
      "outputs": []
    },
    {
      "cell_type": "markdown",
      "source": [
        "To prepare the data for modeling, it is important to normalize it so that all values fall within a specific range, typically between 0 and 1. This step improves the performance and convergence of neural network models.\n",
        "\n",
        "The MinMaxScaler from sklearn.preprocessing is used for this purpose. It scales the data such that the minimum value of the data becomes 0 and the maximum value becomes 1.\n",
        "\n",
        "The sine wave data is reshaped into a 2D array (-1, 1) to fit the scaler, as it expects a 2D input. After scaling, the data is reshaped back into its original 1D form.\n"
      ],
      "metadata": {
        "id": "5kX3cDh9_CPJ"
      }
    },
    {
      "cell_type": "code",
      "source": [
        "# Generate and Normalize the Data\n",
        "data = generate_sine_wave()\n",
        "scaler = MinMaxScaler(feature_range=(0, 1))\n",
        "data = scaler.fit_transform(data.reshape(-1, 1)).reshape(-1)"
      ],
      "metadata": {
        "id": "pLtujZIg70Wf"
      },
      "execution_count": 30,
      "outputs": []
    },
    {
      "cell_type": "code",
      "source": [
        "# Create the Dataset\n",
        "time_step = 10  # Time steps for RNN input\n",
        "X, y = create_dataset(data, time_step)"
      ],
      "metadata": {
        "id": "m7ms_i_z78uV"
      },
      "execution_count": 31,
      "outputs": []
    },
    {
      "cell_type": "code",
      "source": [
        "# Reshape for RNN input [samples, time steps, features]\n",
        "X = X.reshape(X.shape[0], X.shape[1], 1)\n"
      ],
      "metadata": {
        "id": "J_SIkBre7_tL"
      },
      "execution_count": 32,
      "outputs": []
    },
    {
      "cell_type": "markdown",
      "source": [
        "This division of data helps in evaluating the model’s performance by training it on a substantial portion of the data and testing its predictions on unseen data."
      ],
      "metadata": {
        "id": "8P8esxRv_zPi"
      }
    },
    {
      "cell_type": "code",
      "source": [
        "# Split the Data into Training and Testing Sets (80% train, 20% test)\n",
        "train_size = int(len(X) * 0.8)\n",
        "X_train, X_test = X[:train_size], X[train_size:]\n",
        "y_train, y_test = y[:train_size], y[train_size:]\n"
      ],
      "metadata": {
        "id": "UEmo_a-v8CeW"
      },
      "execution_count": 33,
      "outputs": []
    },
    {
      "cell_type": "markdown",
      "source": [
        "***Modify the units parameter in the SimpleRNN layer to see how the number of hidden units affects the model's ability to learn the sequence.***\n",
        "\n",
        "\n",
        "**optimizer='adam':** Uses the Adam optimizer, which is a popular choice for training deep learning models due to its adaptive learning rate.\n",
        "\n",
        "\n",
        "**loss='mean_squared_error':** Sets the loss function to mean squared error (MSE), which is commonly used for regression tasks to measure the average squared difference between predicted and actual values."
      ],
      "metadata": {
        "id": "8BUfwyQa__wP"
      }
    },
    {
      "cell_type": "code",
      "source": [
        "# 3. Define the RNN Model\n",
        "model = Sequential()\n",
        "model.add(SimpleRNN(units=15, return_sequences=False, input_shape=(time_step, 1)))  # <-- Tune 'units'\n",
        "model.add(Dense(1))\n",
        "model.compile(optimizer='adam', loss='mean_squared_error')"
      ],
      "metadata": {
        "colab": {
          "base_uri": "https://localhost:8080/"
        },
        "id": "wLjltqVU8Fmo",
        "outputId": "ee3dedbe-775f-446c-eb49-ca6844ec0216"
      },
      "execution_count": 34,
      "outputs": [
        {
          "output_type": "stream",
          "name": "stderr",
          "text": [
            "/usr/local/lib/python3.10/dist-packages/keras/src/layers/rnn/rnn.py:204: UserWarning: Do not pass an `input_shape`/`input_dim` argument to a layer. When using Sequential models, prefer using an `Input(shape)` object as the first layer in the model instead.\n",
            "  super().__init__(**kwargs)\n"
          ]
        }
      ]
    },
    {
      "cell_type": "markdown",
      "source": [
        "***Adjust the epochs and batch_size during the training phase to optimize the model's learning process and performance.***\n",
        "\n",
        "an\n",
        "\n",
        "**epochs=20:** Specifies the number of times the entire training dataset will pass through the model.\n",
        "\n",
        "\n",
        "**batch_size=32:** Determines the number of samples per gradient update.\n",
        "\n",
        "**verbose=1:** Provides detailed output during training, including the progress of each epoch and loss values."
      ],
      "metadata": {
        "id": "S0yZXIVoBQ4u"
      }
    },
    {
      "cell_type": "code",
      "source": [
        "# 4. Train the Model\n",
        "model.fit(X_train, y_train, epochs=100, batch_size=32, verbose=1)  # <-- Experiment with 'epochs' and 'batch_size'"
      ],
      "metadata": {
        "colab": {
          "base_uri": "https://localhost:8080/"
        },
        "id": "j_KLW0TU8JIE",
        "outputId": "6c5e9479-5dce-4c00-d5a0-b6beb39f21cd"
      },
      "execution_count": 35,
      "outputs": [
        {
          "output_type": "stream",
          "name": "stdout",
          "text": [
            "Epoch 1/100\n",
            "\u001b[1m25/25\u001b[0m \u001b[32m━━━━━━━━━━━━━━━━━━━━\u001b[0m\u001b[37m\u001b[0m \u001b[1m2s\u001b[0m 3ms/step - loss: 0.5366\n",
            "Epoch 2/100\n",
            "\u001b[1m25/25\u001b[0m \u001b[32m━━━━━━━━━━━━━━━━━━━━\u001b[0m\u001b[37m\u001b[0m \u001b[1m0s\u001b[0m 4ms/step - loss: 0.0782\n",
            "Epoch 3/100\n",
            "\u001b[1m25/25\u001b[0m \u001b[32m━━━━━━━━━━━━━━━━━━━━\u001b[0m\u001b[37m\u001b[0m \u001b[1m0s\u001b[0m 3ms/step - loss: 0.0181\n",
            "Epoch 4/100\n",
            "\u001b[1m25/25\u001b[0m \u001b[32m━━━━━━━━━━━━━━━━━━━━\u001b[0m\u001b[37m\u001b[0m \u001b[1m0s\u001b[0m 3ms/step - loss: 0.0068\n",
            "Epoch 5/100\n",
            "\u001b[1m25/25\u001b[0m \u001b[32m━━━━━━━━━━━━━━━━━━━━\u001b[0m\u001b[37m\u001b[0m \u001b[1m0s\u001b[0m 4ms/step - loss: 0.0033\n",
            "Epoch 6/100\n",
            "\u001b[1m25/25\u001b[0m \u001b[32m━━━━━━━━━━━━━━━━━━━━\u001b[0m\u001b[37m\u001b[0m \u001b[1m0s\u001b[0m 4ms/step - loss: 0.0026\n",
            "Epoch 7/100\n",
            "\u001b[1m25/25\u001b[0m \u001b[32m━━━━━━━━━━━━━━━━━━━━\u001b[0m\u001b[37m\u001b[0m \u001b[1m0s\u001b[0m 5ms/step - loss: 0.0024\n",
            "Epoch 8/100\n",
            "\u001b[1m25/25\u001b[0m \u001b[32m━━━━━━━━━━━━━━━━━━━━\u001b[0m\u001b[37m\u001b[0m \u001b[1m0s\u001b[0m 5ms/step - loss: 0.0022\n",
            "Epoch 9/100\n",
            "\u001b[1m25/25\u001b[0m \u001b[32m━━━━━━━━━━━━━━━━━━━━\u001b[0m\u001b[37m\u001b[0m \u001b[1m0s\u001b[0m 3ms/step - loss: 0.0019\n",
            "Epoch 10/100\n",
            "\u001b[1m25/25\u001b[0m \u001b[32m━━━━━━━━━━━━━━━━━━━━\u001b[0m\u001b[37m\u001b[0m \u001b[1m0s\u001b[0m 3ms/step - loss: 0.0017\n",
            "Epoch 11/100\n",
            "\u001b[1m25/25\u001b[0m \u001b[32m━━━━━━━━━━━━━━━━━━━━\u001b[0m\u001b[37m\u001b[0m \u001b[1m0s\u001b[0m 3ms/step - loss: 0.0015\n",
            "Epoch 12/100\n",
            "\u001b[1m25/25\u001b[0m \u001b[32m━━━━━━━━━━━━━━━━━━━━\u001b[0m\u001b[37m\u001b[0m \u001b[1m0s\u001b[0m 3ms/step - loss: 0.0015\n",
            "Epoch 13/100\n",
            "\u001b[1m25/25\u001b[0m \u001b[32m━━━━━━━━━━━━━━━━━━━━\u001b[0m\u001b[37m\u001b[0m \u001b[1m0s\u001b[0m 3ms/step - loss: 0.0013\n",
            "Epoch 14/100\n",
            "\u001b[1m25/25\u001b[0m \u001b[32m━━━━━━━━━━━━━━━━━━━━\u001b[0m\u001b[37m\u001b[0m \u001b[1m0s\u001b[0m 4ms/step - loss: 0.0012\n",
            "Epoch 15/100\n",
            "\u001b[1m25/25\u001b[0m \u001b[32m━━━━━━━━━━━━━━━━━━━━\u001b[0m\u001b[37m\u001b[0m \u001b[1m0s\u001b[0m 5ms/step - loss: 0.0011\n",
            "Epoch 16/100\n",
            "\u001b[1m25/25\u001b[0m \u001b[32m━━━━━━━━━━━━━━━━━━━━\u001b[0m\u001b[37m\u001b[0m \u001b[1m0s\u001b[0m 3ms/step - loss: 0.0010\n",
            "Epoch 17/100\n",
            "\u001b[1m25/25\u001b[0m \u001b[32m━━━━━━━━━━━━━━━━━━━━\u001b[0m\u001b[37m\u001b[0m \u001b[1m0s\u001b[0m 4ms/step - loss: 9.6589e-04\n",
            "Epoch 18/100\n",
            "\u001b[1m25/25\u001b[0m \u001b[32m━━━━━━━━━━━━━━━━━━━━\u001b[0m\u001b[37m\u001b[0m \u001b[1m0s\u001b[0m 3ms/step - loss: 8.9641e-04\n",
            "Epoch 19/100\n",
            "\u001b[1m25/25\u001b[0m \u001b[32m━━━━━━━━━━━━━━━━━━━━\u001b[0m\u001b[37m\u001b[0m \u001b[1m0s\u001b[0m 3ms/step - loss: 8.2426e-04\n",
            "Epoch 20/100\n",
            "\u001b[1m25/25\u001b[0m \u001b[32m━━━━━━━━━━━━━━━━━━━━\u001b[0m\u001b[37m\u001b[0m \u001b[1m0s\u001b[0m 3ms/step - loss: 7.1122e-04\n",
            "Epoch 21/100\n",
            "\u001b[1m25/25\u001b[0m \u001b[32m━━━━━━━━━━━━━━━━━━━━\u001b[0m\u001b[37m\u001b[0m \u001b[1m0s\u001b[0m 3ms/step - loss: 6.3379e-04\n",
            "Epoch 22/100\n",
            "\u001b[1m25/25\u001b[0m \u001b[32m━━━━━━━━━━━━━━━━━━━━\u001b[0m\u001b[37m\u001b[0m \u001b[1m0s\u001b[0m 3ms/step - loss: 5.7311e-04\n",
            "Epoch 23/100\n",
            "\u001b[1m25/25\u001b[0m \u001b[32m━━━━━━━━━━━━━━━━━━━━\u001b[0m\u001b[37m\u001b[0m \u001b[1m0s\u001b[0m 5ms/step - loss: 5.4726e-04\n",
            "Epoch 24/100\n",
            "\u001b[1m25/25\u001b[0m \u001b[32m━━━━━━━━━━━━━━━━━━━━\u001b[0m\u001b[37m\u001b[0m \u001b[1m0s\u001b[0m 3ms/step - loss: 4.7347e-04\n",
            "Epoch 25/100\n",
            "\u001b[1m25/25\u001b[0m \u001b[32m━━━━━━━━━━━━━━━━━━━━\u001b[0m\u001b[37m\u001b[0m \u001b[1m0s\u001b[0m 4ms/step - loss: 4.4962e-04\n",
            "Epoch 26/100\n",
            "\u001b[1m25/25\u001b[0m \u001b[32m━━━━━━━━━━━━━━━━━━━━\u001b[0m\u001b[37m\u001b[0m \u001b[1m0s\u001b[0m 3ms/step - loss: 4.0494e-04\n",
            "Epoch 27/100\n",
            "\u001b[1m25/25\u001b[0m \u001b[32m━━━━━━━━━━━━━━━━━━━━\u001b[0m\u001b[37m\u001b[0m \u001b[1m0s\u001b[0m 4ms/step - loss: 4.0084e-04\n",
            "Epoch 28/100\n",
            "\u001b[1m25/25\u001b[0m \u001b[32m━━━━━━━━━━━━━━━━━━━━\u001b[0m\u001b[37m\u001b[0m \u001b[1m0s\u001b[0m 3ms/step - loss: 3.5747e-04\n",
            "Epoch 29/100\n",
            "\u001b[1m25/25\u001b[0m \u001b[32m━━━━━━━━━━━━━━━━━━━━\u001b[0m\u001b[37m\u001b[0m \u001b[1m0s\u001b[0m 5ms/step - loss: 3.6706e-04\n",
            "Epoch 30/100\n",
            "\u001b[1m25/25\u001b[0m \u001b[32m━━━━━━━━━━━━━━━━━━━━\u001b[0m\u001b[37m\u001b[0m \u001b[1m0s\u001b[0m 3ms/step - loss: 2.7633e-04\n",
            "Epoch 31/100\n",
            "\u001b[1m25/25\u001b[0m \u001b[32m━━━━━━━━━━━━━━━━━━━━\u001b[0m\u001b[37m\u001b[0m \u001b[1m0s\u001b[0m 3ms/step - loss: 2.9258e-04\n",
            "Epoch 32/100\n",
            "\u001b[1m25/25\u001b[0m \u001b[32m━━━━━━━━━━━━━━━━━━━━\u001b[0m\u001b[37m\u001b[0m \u001b[1m0s\u001b[0m 3ms/step - loss: 2.6174e-04\n",
            "Epoch 33/100\n",
            "\u001b[1m25/25\u001b[0m \u001b[32m━━━━━━━━━━━━━━━━━━━━\u001b[0m\u001b[37m\u001b[0m \u001b[1m0s\u001b[0m 3ms/step - loss: 2.4370e-04\n",
            "Epoch 34/100\n",
            "\u001b[1m25/25\u001b[0m \u001b[32m━━━━━━━━━━━━━━━━━━━━\u001b[0m\u001b[37m\u001b[0m \u001b[1m0s\u001b[0m 3ms/step - loss: 2.4322e-04\n",
            "Epoch 35/100\n",
            "\u001b[1m25/25\u001b[0m \u001b[32m━━━━━━━━━━━━━━━━━━━━\u001b[0m\u001b[37m\u001b[0m \u001b[1m0s\u001b[0m 4ms/step - loss: 2.1221e-04\n",
            "Epoch 36/100\n",
            "\u001b[1m25/25\u001b[0m \u001b[32m━━━━━━━━━━━━━━━━━━━━\u001b[0m\u001b[37m\u001b[0m \u001b[1m0s\u001b[0m 3ms/step - loss: 2.1590e-04\n",
            "Epoch 37/100\n",
            "\u001b[1m25/25\u001b[0m \u001b[32m━━━━━━━━━━━━━━━━━━━━\u001b[0m\u001b[37m\u001b[0m \u001b[1m0s\u001b[0m 3ms/step - loss: 2.0259e-04\n",
            "Epoch 38/100\n",
            "\u001b[1m25/25\u001b[0m \u001b[32m━━━━━━━━━━━━━━━━━━━━\u001b[0m\u001b[37m\u001b[0m \u001b[1m0s\u001b[0m 3ms/step - loss: 1.8561e-04\n",
            "Epoch 39/100\n",
            "\u001b[1m25/25\u001b[0m \u001b[32m━━━━━━━━━━━━━━━━━━━━\u001b[0m\u001b[37m\u001b[0m \u001b[1m0s\u001b[0m 3ms/step - loss: 1.9021e-04\n",
            "Epoch 40/100\n",
            "\u001b[1m25/25\u001b[0m \u001b[32m━━━━━━━━━━━━━━━━━━━━\u001b[0m\u001b[37m\u001b[0m \u001b[1m0s\u001b[0m 3ms/step - loss: 1.8959e-04\n",
            "Epoch 41/100\n",
            "\u001b[1m25/25\u001b[0m \u001b[32m━━━━━━━━━━━━━━━━━━━━\u001b[0m\u001b[37m\u001b[0m \u001b[1m0s\u001b[0m 3ms/step - loss: 1.5910e-04\n",
            "Epoch 42/100\n",
            "\u001b[1m25/25\u001b[0m \u001b[32m━━━━━━━━━━━━━━━━━━━━\u001b[0m\u001b[37m\u001b[0m \u001b[1m0s\u001b[0m 5ms/step - loss: 1.7094e-04\n",
            "Epoch 43/100\n",
            "\u001b[1m25/25\u001b[0m \u001b[32m━━━━━━━━━━━━━━━━━━━━\u001b[0m\u001b[37m\u001b[0m \u001b[1m0s\u001b[0m 3ms/step - loss: 1.6923e-04\n",
            "Epoch 44/100\n",
            "\u001b[1m25/25\u001b[0m \u001b[32m━━━━━━━━━━━━━━━━━━━━\u001b[0m\u001b[37m\u001b[0m \u001b[1m0s\u001b[0m 3ms/step - loss: 1.6799e-04\n",
            "Epoch 45/100\n",
            "\u001b[1m25/25\u001b[0m \u001b[32m━━━━━━━━━━━━━━━━━━━━\u001b[0m\u001b[37m\u001b[0m \u001b[1m0s\u001b[0m 3ms/step - loss: 1.4560e-04\n",
            "Epoch 46/100\n",
            "\u001b[1m25/25\u001b[0m \u001b[32m━━━━━━━━━━━━━━━━━━━━\u001b[0m\u001b[37m\u001b[0m \u001b[1m0s\u001b[0m 3ms/step - loss: 1.3080e-04\n",
            "Epoch 47/100\n",
            "\u001b[1m25/25\u001b[0m \u001b[32m━━━━━━━━━━━━━━━━━━━━\u001b[0m\u001b[37m\u001b[0m \u001b[1m0s\u001b[0m 3ms/step - loss: 1.2711e-04\n",
            "Epoch 48/100\n",
            "\u001b[1m25/25\u001b[0m \u001b[32m━━━━━━━━━━━━━━━━━━━━\u001b[0m\u001b[37m\u001b[0m \u001b[1m0s\u001b[0m 3ms/step - loss: 1.2300e-04\n",
            "Epoch 49/100\n",
            "\u001b[1m25/25\u001b[0m \u001b[32m━━━━━━━━━━━━━━━━━━━━\u001b[0m\u001b[37m\u001b[0m \u001b[1m0s\u001b[0m 5ms/step - loss: 1.2273e-04\n",
            "Epoch 50/100\n",
            "\u001b[1m25/25\u001b[0m \u001b[32m━━━━━━━━━━━━━━━━━━━━\u001b[0m\u001b[37m\u001b[0m \u001b[1m0s\u001b[0m 3ms/step - loss: 1.1289e-04\n",
            "Epoch 51/100\n",
            "\u001b[1m25/25\u001b[0m \u001b[32m━━━━━━━━━━━━━━━━━━━━\u001b[0m\u001b[37m\u001b[0m \u001b[1m0s\u001b[0m 3ms/step - loss: 1.0727e-04\n",
            "Epoch 52/100\n",
            "\u001b[1m25/25\u001b[0m \u001b[32m━━━━━━━━━━━━━━━━━━━━\u001b[0m\u001b[37m\u001b[0m \u001b[1m0s\u001b[0m 4ms/step - loss: 1.0897e-04\n",
            "Epoch 53/100\n",
            "\u001b[1m25/25\u001b[0m \u001b[32m━━━━━━━━━━━━━━━━━━━━\u001b[0m\u001b[37m\u001b[0m \u001b[1m0s\u001b[0m 3ms/step - loss: 9.9588e-05\n",
            "Epoch 54/100\n",
            "\u001b[1m25/25\u001b[0m \u001b[32m━━━━━━━━━━━━━━━━━━━━\u001b[0m\u001b[37m\u001b[0m \u001b[1m0s\u001b[0m 3ms/step - loss: 9.9279e-05\n",
            "Epoch 55/100\n",
            "\u001b[1m25/25\u001b[0m \u001b[32m━━━━━━━━━━━━━━━━━━━━\u001b[0m\u001b[37m\u001b[0m \u001b[1m0s\u001b[0m 3ms/step - loss: 1.1379e-04\n",
            "Epoch 56/100\n",
            "\u001b[1m25/25\u001b[0m \u001b[32m━━━━━━━━━━━━━━━━━━━━\u001b[0m\u001b[37m\u001b[0m \u001b[1m0s\u001b[0m 6ms/step - loss: 1.1460e-04\n",
            "Epoch 57/100\n",
            "\u001b[1m25/25\u001b[0m \u001b[32m━━━━━━━━━━━━━━━━━━━━\u001b[0m\u001b[37m\u001b[0m \u001b[1m0s\u001b[0m 3ms/step - loss: 8.9226e-05\n",
            "Epoch 58/100\n",
            "\u001b[1m25/25\u001b[0m \u001b[32m━━━━━━━━━━━━━━━━━━━━\u001b[0m\u001b[37m\u001b[0m \u001b[1m0s\u001b[0m 3ms/step - loss: 8.9427e-05\n",
            "Epoch 59/100\n",
            "\u001b[1m25/25\u001b[0m \u001b[32m━━━━━━━━━━━━━━━━━━━━\u001b[0m\u001b[37m\u001b[0m \u001b[1m0s\u001b[0m 3ms/step - loss: 8.9562e-05\n",
            "Epoch 60/100\n",
            "\u001b[1m25/25\u001b[0m \u001b[32m━━━━━━━━━━━━━━━━━━━━\u001b[0m\u001b[37m\u001b[0m \u001b[1m0s\u001b[0m 4ms/step - loss: 7.8134e-05\n",
            "Epoch 61/100\n",
            "\u001b[1m25/25\u001b[0m \u001b[32m━━━━━━━━━━━━━━━━━━━━\u001b[0m\u001b[37m\u001b[0m \u001b[1m0s\u001b[0m 4ms/step - loss: 8.6744e-05\n",
            "Epoch 62/100\n",
            "\u001b[1m25/25\u001b[0m \u001b[32m━━━━━━━━━━━━━━━━━━━━\u001b[0m\u001b[37m\u001b[0m \u001b[1m0s\u001b[0m 4ms/step - loss: 8.1469e-05\n",
            "Epoch 63/100\n",
            "\u001b[1m25/25\u001b[0m \u001b[32m━━━━━━━━━━━━━━━━━━━━\u001b[0m\u001b[37m\u001b[0m \u001b[1m0s\u001b[0m 5ms/step - loss: 6.7728e-05\n",
            "Epoch 64/100\n",
            "\u001b[1m25/25\u001b[0m \u001b[32m━━━━━━━━━━━━━━━━━━━━\u001b[0m\u001b[37m\u001b[0m \u001b[1m0s\u001b[0m 5ms/step - loss: 6.9269e-05\n",
            "Epoch 65/100\n",
            "\u001b[1m25/25\u001b[0m \u001b[32m━━━━━━━━━━━━━━━━━━━━\u001b[0m\u001b[37m\u001b[0m \u001b[1m0s\u001b[0m 4ms/step - loss: 7.0842e-05\n",
            "Epoch 66/100\n",
            "\u001b[1m25/25\u001b[0m \u001b[32m━━━━━━━━━━━━━━━━━━━━\u001b[0m\u001b[37m\u001b[0m \u001b[1m0s\u001b[0m 4ms/step - loss: 8.0386e-05\n",
            "Epoch 67/100\n",
            "\u001b[1m25/25\u001b[0m \u001b[32m━━━━━━━━━━━━━━━━━━━━\u001b[0m\u001b[37m\u001b[0m \u001b[1m0s\u001b[0m 6ms/step - loss: 6.3187e-05\n",
            "Epoch 68/100\n",
            "\u001b[1m25/25\u001b[0m \u001b[32m━━━━━━━━━━━━━━━━━━━━\u001b[0m\u001b[37m\u001b[0m \u001b[1m0s\u001b[0m 8ms/step - loss: 5.6552e-05\n",
            "Epoch 69/100\n",
            "\u001b[1m25/25\u001b[0m \u001b[32m━━━━━━━━━━━━━━━━━━━━\u001b[0m\u001b[37m\u001b[0m \u001b[1m0s\u001b[0m 6ms/step - loss: 6.2546e-05\n",
            "Epoch 70/100\n",
            "\u001b[1m25/25\u001b[0m \u001b[32m━━━━━━━━━━━━━━━━━━━━\u001b[0m\u001b[37m\u001b[0m \u001b[1m0s\u001b[0m 6ms/step - loss: 5.2012e-05\n",
            "Epoch 71/100\n",
            "\u001b[1m25/25\u001b[0m \u001b[32m━━━━━━━━━━━━━━━━━━━━\u001b[0m\u001b[37m\u001b[0m \u001b[1m0s\u001b[0m 6ms/step - loss: 5.3195e-05\n",
            "Epoch 72/100\n",
            "\u001b[1m25/25\u001b[0m \u001b[32m━━━━━━━━━━━━━━━━━━━━\u001b[0m\u001b[37m\u001b[0m \u001b[1m0s\u001b[0m 5ms/step - loss: 5.0861e-05\n",
            "Epoch 73/100\n",
            "\u001b[1m25/25\u001b[0m \u001b[32m━━━━━━━━━━━━━━━━━━━━\u001b[0m\u001b[37m\u001b[0m \u001b[1m0s\u001b[0m 6ms/step - loss: 4.2882e-05\n",
            "Epoch 74/100\n",
            "\u001b[1m25/25\u001b[0m \u001b[32m━━━━━━━━━━━━━━━━━━━━\u001b[0m\u001b[37m\u001b[0m \u001b[1m0s\u001b[0m 6ms/step - loss: 4.3692e-05\n",
            "Epoch 75/100\n",
            "\u001b[1m25/25\u001b[0m \u001b[32m━━━━━━━━━━━━━━━━━━━━\u001b[0m\u001b[37m\u001b[0m \u001b[1m0s\u001b[0m 6ms/step - loss: 4.1435e-05\n",
            "Epoch 76/100\n",
            "\u001b[1m25/25\u001b[0m \u001b[32m━━━━━━━━━━━━━━━━━━━━\u001b[0m\u001b[37m\u001b[0m \u001b[1m0s\u001b[0m 6ms/step - loss: 3.8451e-05\n",
            "Epoch 77/100\n",
            "\u001b[1m25/25\u001b[0m \u001b[32m━━━━━━━━━━━━━━━━━━━━\u001b[0m\u001b[37m\u001b[0m \u001b[1m0s\u001b[0m 5ms/step - loss: 4.2362e-05\n",
            "Epoch 78/100\n",
            "\u001b[1m25/25\u001b[0m \u001b[32m━━━━━━━━━━━━━━━━━━━━\u001b[0m\u001b[37m\u001b[0m \u001b[1m0s\u001b[0m 5ms/step - loss: 4.1048e-05\n",
            "Epoch 79/100\n",
            "\u001b[1m25/25\u001b[0m \u001b[32m━━━━━━━━━━━━━━━━━━━━\u001b[0m\u001b[37m\u001b[0m \u001b[1m0s\u001b[0m 3ms/step - loss: 3.4676e-05\n",
            "Epoch 80/100\n",
            "\u001b[1m25/25\u001b[0m \u001b[32m━━━━━━━━━━━━━━━━━━━━\u001b[0m\u001b[37m\u001b[0m \u001b[1m0s\u001b[0m 3ms/step - loss: 4.1238e-05\n",
            "Epoch 81/100\n",
            "\u001b[1m25/25\u001b[0m \u001b[32m━━━━━━━━━━━━━━━━━━━━\u001b[0m\u001b[37m\u001b[0m \u001b[1m0s\u001b[0m 4ms/step - loss: 4.3301e-05\n",
            "Epoch 82/100\n",
            "\u001b[1m25/25\u001b[0m \u001b[32m━━━━━━━━━━━━━━━━━━━━\u001b[0m\u001b[37m\u001b[0m \u001b[1m0s\u001b[0m 3ms/step - loss: 4.2944e-05\n",
            "Epoch 83/100\n",
            "\u001b[1m25/25\u001b[0m \u001b[32m━━━━━━━━━━━━━━━━━━━━\u001b[0m\u001b[37m\u001b[0m \u001b[1m0s\u001b[0m 4ms/step - loss: 4.7695e-05\n",
            "Epoch 84/100\n",
            "\u001b[1m25/25\u001b[0m \u001b[32m━━━━━━━━━━━━━━━━━━━━\u001b[0m\u001b[37m\u001b[0m \u001b[1m0s\u001b[0m 3ms/step - loss: 2.9517e-05\n",
            "Epoch 85/100\n",
            "\u001b[1m25/25\u001b[0m \u001b[32m━━━━━━━━━━━━━━━━━━━━\u001b[0m\u001b[37m\u001b[0m \u001b[1m0s\u001b[0m 3ms/step - loss: 2.8046e-05\n",
            "Epoch 86/100\n",
            "\u001b[1m25/25\u001b[0m \u001b[32m━━━━━━━━━━━━━━━━━━━━\u001b[0m\u001b[37m\u001b[0m \u001b[1m0s\u001b[0m 4ms/step - loss: 2.4531e-05\n",
            "Epoch 87/100\n",
            "\u001b[1m25/25\u001b[0m \u001b[32m━━━━━━━━━━━━━━━━━━━━\u001b[0m\u001b[37m\u001b[0m \u001b[1m0s\u001b[0m 3ms/step - loss: 3.0144e-05\n",
            "Epoch 88/100\n",
            "\u001b[1m25/25\u001b[0m \u001b[32m━━━━━━━━━━━━━━━━━━━━\u001b[0m\u001b[37m\u001b[0m \u001b[1m0s\u001b[0m 3ms/step - loss: 2.4586e-05\n",
            "Epoch 89/100\n",
            "\u001b[1m25/25\u001b[0m \u001b[32m━━━━━━━━━━━━━━━━━━━━\u001b[0m\u001b[37m\u001b[0m \u001b[1m0s\u001b[0m 3ms/step - loss: 2.2113e-05\n",
            "Epoch 90/100\n",
            "\u001b[1m25/25\u001b[0m \u001b[32m━━━━━━━━━━━━━━━━━━━━\u001b[0m\u001b[37m\u001b[0m \u001b[1m0s\u001b[0m 3ms/step - loss: 2.1220e-05\n",
            "Epoch 91/100\n",
            "\u001b[1m25/25\u001b[0m \u001b[32m━━━━━━━━━━━━━━━━━━━━\u001b[0m\u001b[37m\u001b[0m \u001b[1m0s\u001b[0m 3ms/step - loss: 2.0344e-05\n",
            "Epoch 92/100\n",
            "\u001b[1m25/25\u001b[0m \u001b[32m━━━━━━━━━━━━━━━━━━━━\u001b[0m\u001b[37m\u001b[0m \u001b[1m0s\u001b[0m 4ms/step - loss: 1.8175e-05\n",
            "Epoch 93/100\n",
            "\u001b[1m25/25\u001b[0m \u001b[32m━━━━━━━━━━━━━━━━━━━━\u001b[0m\u001b[37m\u001b[0m \u001b[1m0s\u001b[0m 4ms/step - loss: 2.2697e-05\n",
            "Epoch 94/100\n",
            "\u001b[1m25/25\u001b[0m \u001b[32m━━━━━━━━━━━━━━━━━━━━\u001b[0m\u001b[37m\u001b[0m \u001b[1m0s\u001b[0m 3ms/step - loss: 1.7099e-05\n",
            "Epoch 95/100\n",
            "\u001b[1m25/25\u001b[0m \u001b[32m━━━━━━━━━━━━━━━━━━━━\u001b[0m\u001b[37m\u001b[0m \u001b[1m0s\u001b[0m 4ms/step - loss: 1.5757e-05\n",
            "Epoch 96/100\n",
            "\u001b[1m25/25\u001b[0m \u001b[32m━━━━━━━━━━━━━━━━━━━━\u001b[0m\u001b[37m\u001b[0m \u001b[1m0s\u001b[0m 3ms/step - loss: 1.4718e-05\n",
            "Epoch 97/100\n",
            "\u001b[1m25/25\u001b[0m \u001b[32m━━━━━━━━━━━━━━━━━━━━\u001b[0m\u001b[37m\u001b[0m \u001b[1m0s\u001b[0m 3ms/step - loss: 1.4660e-05\n",
            "Epoch 98/100\n",
            "\u001b[1m25/25\u001b[0m \u001b[32m━━━━━━━━━━━━━━━━━━━━\u001b[0m\u001b[37m\u001b[0m \u001b[1m0s\u001b[0m 3ms/step - loss: 1.5373e-05\n",
            "Epoch 99/100\n",
            "\u001b[1m25/25\u001b[0m \u001b[32m━━━━━━━━━━━━━━━━━━━━\u001b[0m\u001b[37m\u001b[0m \u001b[1m0s\u001b[0m 4ms/step - loss: 1.2884e-05\n",
            "Epoch 100/100\n",
            "\u001b[1m25/25\u001b[0m \u001b[32m━━━━━━━━━━━━━━━━━━━━\u001b[0m\u001b[37m\u001b[0m \u001b[1m0s\u001b[0m 5ms/step - loss: 1.4703e-05\n"
          ]
        },
        {
          "output_type": "execute_result",
          "data": {
            "text/plain": [
              "<keras.src.callbacks.history.History at 0x78e324441180>"
            ]
          },
          "metadata": {},
          "execution_count": 35
        }
      ]
    },
    {
      "cell_type": "code",
      "source": [
        "# 5. Predict on the Test Data\n",
        "y_pred = model.predict(X_test)"
      ],
      "metadata": {
        "colab": {
          "base_uri": "https://localhost:8080/"
        },
        "id": "zsbHl3pX8NF4",
        "outputId": "24e3e6b9-ae0e-4bff-899b-2cf957ee0d7b"
      },
      "execution_count": 36,
      "outputs": [
        {
          "output_type": "stream",
          "name": "stdout",
          "text": [
            "\u001b[1m7/7\u001b[0m \u001b[32m━━━━━━━━━━━━━━━━━━━━\u001b[0m\u001b[37m\u001b[0m \u001b[1m0s\u001b[0m 23ms/step\n"
          ]
        }
      ]
    },
    {
      "cell_type": "markdown",
      "source": [
        "These steps reverse the normalization applied earlier to the predictions and actual values. Normalization scales the data to a range, typically [0, 1], which helps with model training but makes the results difficult to interpret directly.\n",
        "By applying the inverse transformation, you convert the scaled predictions (y_pred) and test values (y_test) back to their original scale, allowing you to evaluate and visualize the model's performance in the context of the original data values."
      ],
      "metadata": {
        "id": "H1q7El5QCCuK"
      }
    },
    {
      "cell_type": "code",
      "source": [
        "# Inverse transform to get the original scale (if normalization was applied)\n",
        "y_pred = scaler.inverse_transform(y_pred.reshape(-1, 1)).reshape(-1)\n",
        "y_test = scaler.inverse_transform(y_test.reshape(-1, 1)).reshape(-1)"
      ],
      "metadata": {
        "id": "C1crOpDh8QfQ"
      },
      "execution_count": 37,
      "outputs": []
    },
    {
      "cell_type": "markdown",
      "source": [
        "This plot visually compares the actual sine wave values (y_test) with the values predicted by the RNN model (y_pred).\n",
        "\n",
        "By plotting both sets of values on the same graph, you can easily see how well the model's predictions align with the actual data.\n",
        "\n",
        "This visualization helps in assessing the performance of the RNN model and understanding how accurately it captures the underlying pattern in the time series data.\n",
        "\n",
        "***Analyze the resulting plot. If the predicted values deviate significantly from the actual values, experiment with different model configurations and training parameters to improve accuracy.***\n",
        "  \n",
        "# **Describe your observations. You can add a text cell and type your observations.**"
      ],
      "metadata": {
        "id": "EhuICzVgCKyP"
      }
    },
    {
      "cell_type": "code",
      "source": [
        "\n",
        "# 6. Plot the Results\n",
        "plt.figure(figsize=(12, 6))\n",
        "plt.plot(y_test, label='Actual')\n",
        "plt.plot(y_pred, label='Predicted')\n",
        "plt.xlabel('Time Steps')\n",
        "plt.ylabel('Value')\n",
        "plt.title('RNN Prediction on Sine Wave')\n",
        "plt.legend()\n",
        "plt.show()"
      ],
      "metadata": {
        "colab": {
          "base_uri": "https://localhost:8080/",
          "height": 564
        },
        "id": "1F_aCa958TdC",
        "outputId": "ba2dbf12-075e-4854-b916-364714b4326b"
      },
      "execution_count": 38,
      "outputs": [
        {
          "output_type": "display_data",
          "data": {
            "text/plain": [
              "<Figure size 1200x600 with 1 Axes>"
            ],
            "image/png": "[encoded data removed]"
          },
          "metadata": {}
        }
      ]
    },
    {
      "cell_type": "markdown",
      "source": [
        "When increasing the number of units (e.g., from 50 to 100), the model has more capacity to learn complex patterns in the sequence. This often results in better performance, especially on more complex datasets. However, this can also lead to overfitting if the model becomes too complex for the data, causing it to perform well on training data but poorly on unseen data.\n",
        "\n",
        "A smaller batch_size (e.g., 16 or 32) allows the model to update its weights more frequently, which can lead to a more robust and generalized model. However, it may also result in noisier updates and longer training times.\n",
        "A larger batch_size (e.g., 64 or 128) results in smoother updates and faster training but may lead to suboptimal solutions and poorer generalization."
      ],
      "metadata": {
        "id": "8tljK4jdUBDR"
      }
    }
  ]
}