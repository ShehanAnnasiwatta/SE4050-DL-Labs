{
  "cells": [
    {
      "cell_type": "markdown",
      "metadata": {
        "id": "LuA-4GIPekX2"
      },
      "source": [
        "# Face Recognition for the Happy House\n",
        "\n",
        "Welcome to the first assignment of week 4! Here you will build a face recognition system. Many of the ideas presented here are from [FaceNet](https://arxiv.org/pdf/1503.03832.pdf). In lecture, we also talked about [DeepFace](https://research.fb.com/wp-content/uploads/2016/11/deepface-closing-the-gap-to-human-level-performance-in-face-verification.pdf).\n",
        "\n",
        "Face recognition problems commonly fall into two categories:\n",
        "\n",
        "- **Face Verification** - \"is this the claimed person?\". For example, at some airports, you can pass through customs by letting a system scan your passport and then verifying that you (the person carrying the passport) are the correct person. A mobile phone that unlocks using your face is also using face verification. This is a 1:1 matching problem.\n",
        "- **Face Recognition** - \"who is this person?\". For example, the video lecture showed a face recognition video (https://www.youtube.com/watch?v=wr4rx0Spihs) of Baidu employees entering the office without needing to otherwise identify themselves. This is a 1:K matching problem.\n",
        "\n",
        "FaceNet learns a neural network that encodes a face image into a vector of 128 numbers. By comparing two such vectors, you can then determine if two pictures are of the same person.\n",
        "    \n",
        "**In this assignment, you will:**\n",
        "- Implement the triplet loss function\n",
        "- Use a pretrained model to map face images into 128-dimensional encodings\n",
        "- Use these encodings to perform face verification and face recognition\n",
        "\n",
        "In this exercise, we will be using a pre-trained model which represents ConvNet activations using a \"channels first\" convention, as opposed to the \"channels last\" convention used in lecture and previous programming assignments. In other words, a batch of images will be of shape $(m, n_C, n_H, n_W)$ instead of $(m, n_H, n_W, n_C)$. Both of these conventions have a reasonable amount of traction among open-source implementations; there isn't a uniform standard yet within the deep learning community.\n",
        "\n",
        "Let's load the required packages.\n"
      ]
    },
    {
      "cell_type": "code",
      "execution_count": null,
      "metadata": {
        "id": "-DFr5cHPyBKq"
      },
      "outputs": [],
      "source": [
        "\n",
        "import zipfile\n",
        "with zipfile.ZipFile('weights.zip', 'r') as zip_ref:\n",
        "    zip_ref.extractall('weights')\n",
        "\n"
      ]
    },
    {
      "cell_type": "code",
      "execution_count": null,
      "metadata": {
        "id": "h06smg0Ef9RV"
      },
      "outputs": [],
      "source": [
        "#pip install fr_utils\n",
        "import fr_utils"
      ]
    },
    {
      "cell_type": "code",
      "execution_count": null,
      "metadata": {
        "colab": {
          "base_uri": "https://localhost:8080/"
        },
        "id": "A6SBtExrekX5",
        "outputId": "130f54b8-81db-4011-d41a-43eff830b285"
      },
      "outputs": [
        {
          "output_type": "stream",
          "name": "stdout",
          "text": [
            "2.17.0\n"
          ]
        }
      ],
      "source": [
        "\n",
        "from keras.models import Sequential\n",
        "from keras.layers import Conv2D, ZeroPadding2D, Activation, Input, concatenate\n",
        "from keras.models import Model\n",
        "# from keras.layers.normalization import BatchNormalization\n",
        "from tensorflow.keras.layers import BatchNormalization\n",
        "#from keras.layers.pooling import MaxPooling2D, AveragePooling2D\n",
        "from tensorflow.keras.layers import MaxPooling2D, AveragePooling2D\n",
        "# from keras.layers.merge import Concatenate\n",
        "from tensorflow.keras.layers import concatenate\n",
        "\n",
        "from tensorflow.keras.layers import Lambda, Flatten, Dense\n",
        "from keras.initializers import glorot_uniform\n",
        "# from keras.engine.topology import Layer\n",
        "from tensorflow.keras.layers import Layer, InputSpec\n",
        "from keras import backend as K\n",
        "K.set_image_data_format('channels_first')\n",
        "import cv2\n",
        "import os\n",
        "import numpy as np\n",
        "from numpy import genfromtxt\n",
        "import pandas as pd\n",
        "import tensorflow as tf\n",
        "from fr_utils import *\n",
        "from inception_blocks_v2 import *\n",
        "\n",
        "%matplotlib inline\n",
        "%load_ext autoreload\n",
        "%autoreload 2\n",
        "\n",
        "import tensorflow\n",
        "print(tensorflow.__version__)\n",
        "\n",
        "# np.set_printoptions(threshold=np.nan)"
      ]
    },
    {
      "cell_type": "markdown",
      "metadata": {
        "id": "S_AfxbFdekYA"
      },
      "source": [
        "## 0 - Naive Face Verification\n",
        "\n",
        "In Face Verification, you're given two images and you have to tell if they are of the same person. The simplest way to do this is to compare the two images pixel-by-pixel. If the distance between the raw images are less than a chosen threshold, it may be the same person!\n",
        "\n",
        "<img src=\"//github.com/enggen/Deep-Learning-Coursera/raw/1407e19c98833d2686a0748db26b594f3102301e/Convolutional Neural Networks/Week4/Face Recognition/images/pixel_comparison.png\" style=\"width:380px;height:150px;\">\n",
        "<caption><center> <u> <font color='purple'> </u></center></caption>"
      ]
    },
    {
      "cell_type": "markdown",
      "metadata": {
        "collapsed": true,
        "id": "PGNZGVAlekYB",
        "jupyter": {
          "outputs_hidden": true
        }
      },
      "source": [
        "Of course, this algorithm performs really poorly, since the pixel values change dramatically due to variations in lighting, orientation of the person's face, even minor changes in head position, and so on.\n",
        "\n",
        "You'll see that rather than using the raw image, you can learn an encoding $f(img)$ so that element-wise comparisons of this encoding gives more accurate judgements as to whether two pictures are of the same person."
      ]
    },
    {
      "cell_type": "markdown",
      "metadata": {
        "id": "b67v8ii_ekYB"
      },
      "source": [
        "## 1 - Encoding face images into a 128-dimensional vector\n",
        "\n",
        "### 1.1 - Using an ConvNet  to compute encodings\n",
        "\n",
        "The FaceNet model takes a lot of data and a long time to train. So following common practice in applied deep learning settings, let's just load weights that someone else has already trained. The network architecture follows the Inception model from [Szegedy *et al.*](https://arxiv.org/abs/1409.4842). We have provided an inception network implementation. You can look in the file `inception_blocks.py` to see how it is implemented (do so by going to \"File->Open...\" at the top of the Jupyter notebook).  \n"
      ]
    },
    {
      "cell_type": "markdown",
      "metadata": {
        "id": "Pwk8QR0iekYC"
      },
      "source": [
        "The key things you need to know are:\n",
        "\n",
        "- This network uses 96x96 dimensional RGB images as its input. Specifically, inputs a face image (or batch of $m$ face images) as a tensor of shape $(m, n_C, n_H, n_W) = (m, 3, 96, 96)$\n",
        "- It outputs a matrix of shape $(m, 128)$ that encodes each input face image into a 128-dimensional vector\n",
        "\n",
        "Run the cell below to create the model for face images."
      ]
    },
    {
      "cell_type": "code",
      "execution_count": null,
      "metadata": {
        "id": "rgh0TInJekYD"
      },
      "outputs": [],
      "source": [
        "from keras.layers import Input, Dense, Lambda\n",
        "from keras.models import Model\n",
        "\n",
        "def faceRecoModel(input_shape):\n",
        "    X_input = Input(input_shape)\n",
        "\n",
        "    # Your model's layers here...\n",
        "\n",
        "    # Example of the last few layers\n",
        "    X = Dense(128, name='dense_layer')(X_input)\n",
        "    X = Lambda(lambda x: K.l2_normalize(x, axis=1), output_shape=(128,))(X)\n",
        "\n",
        "    # Create model instance\n",
        "    model = Model(inputs=X_input, outputs=X, name='FaceRecoModel')\n",
        "\n",
        "    return model\n",
        "FRmodel = faceRecoModel(input_shape=(3, 96, 96))"
      ]
    },
    {
      "cell_type": "code",
      "execution_count": null,
      "metadata": {
        "colab": {
          "base_uri": "https://localhost:8080/"
        },
        "id": "QlKMPb6nekYG",
        "outputId": "13eb257c-6ac5-49a4-bc21-a00b39bd2d7f"
      },
      "outputs": [
        {
          "output_type": "stream",
          "name": "stdout",
          "text": [
            "Total Params: 12416\n"
          ]
        }
      ],
      "source": [
        "print(\"Total Params:\", FRmodel.count_params())"
      ]
    },
    {
      "cell_type": "markdown",
      "metadata": {
        "id": "U6g2zkTvekYJ"
      },
      "source": [
        "** Expected Output **\n",
        "<table>\n",
        "<center>\n",
        "Total Params: 3743280\n",
        "</center>\n",
        "</table>\n"
      ]
    },
    {
      "cell_type": "markdown",
      "metadata": {
        "id": "oue9ViX-ekYK"
      },
      "source": [
        "By using a 128-neuron fully connected layer as its last layer, the model ensures that the output is an encoding vector of size 128. You then use the encodings the compare two face images as follows:\n",
        "\n",
        "<img src=\"//github.com/enggen/Deep-Learning-Coursera/raw/1407e19c98833d2686a0748db26b594f3102301e/Convolutional Neural Networks/Week4/Face Recognition/images/distance_kiank.png\" style=\"width:680px;height:250px;\">\n",
        "<caption><center> <u> <font color='purple'>  <br> </u> <font color='purple'> By computing a distance between two encodings and thresholding, you can determine if the two pictures represent the same person</center></caption>\n",
        "\n",
        "So, an encoding is a good one if:\n",
        "- The encodings of two images of the same person are quite similar to each other\n",
        "- The encodings of two images of different persons are very different\n",
        "\n",
        "The triplet loss function formalizes this, and tries to \"push\" the encodings of two images of the same person (Anchor and Positive) closer together, while \"pulling\" the encodings of two images of different persons (Anchor, Negative) further apart.\n",
        "\n",
        "<img src=\"//github.com/enggen/Deep-Learning-Coursera/raw/1407e19c98833d2686a0748db26b594f3102301e/Convolutional Neural Networks/Week4/Face Recognition/images/triplet_comparison.png\" style=\"width:280px;height:150px;\">\n",
        "<br>\n",
        "<caption><center> <u> <font color='purple'> <br> </u> <font color='purple'> In the next part, we will call the pictures from left to right: Anchor (A), Positive (P), Negative (N)  </center></caption>"
      ]
    },
    {
      "cell_type": "markdown",
      "metadata": {
        "id": "befDNuayekYL"
      },
      "source": [
        "\n",
        "\n",
        "### 1.2 - The Triplet Loss\n",
        "\n",
        "For an image $x$, we denote its encoding $f(x)$, where $f$ is the function computed by the neural network.\n",
        "\n",
        "<img src=\"//github.com/enggen/Deep-Learning-Coursera/raw/1407e19c98833d2686a0748db26b594f3102301e/Convolutional Neural Networks/Week4/Face Recognition/images/f_x.png\" style=\"width:380px;height:150px;\">\n",
        "\n",
        "<!--\n",
        "We will also add a normalization step at the end of our model so that $\\mid \\mid f(x) \\mid \\mid_2 = 1$ (means the vector of encoding should be of norm 1).\n",
        "!-->\n",
        "\n",
        "Training will use triplets of images $(A, P, N)$:  \n",
        "\n",
        "- A is an \"Anchor\" image--a picture of a person.\n",
        "- P is a \"Positive\" image--a picture of the same person as the Anchor image.\n",
        "- N is a \"Negative\" image--a picture of a different person than the Anchor image.\n",
        "\n",
        "These triplets are picked from our training dataset. We will write $(A^{(i)}, P^{(i)}, N^{(i)})$ to denote the $i$-th training example.\n",
        "\n",
        "You'd like to make sure that an image $A^{(i)}$ of an individual is closer to the Positive $P^{(i)}$ than to the Negative image $N^{(i)}$) by at least a margin $\\alpha$:\n",
        "\n",
        "$$\\mid \\mid f(A^{(i)}) - f(P^{(i)}) \\mid \\mid_2^2 + \\alpha < \\mid \\mid f(A^{(i)}) - f(N^{(i)}) \\mid \\mid_2^2$$\n",
        "\n",
        "You would thus like to minimize the following \"triplet cost\":\n",
        "\n",
        "$$\\mathcal{J} = \\sum^{N}_{i=1} \\large[ \\small \\underbrace{\\mid \\mid f(A^{(i)}) - f(P^{(i)}) \\mid \\mid_2^2}_\\text{(1)} - \\underbrace{\\mid \\mid f(A^{(i)}) - f(N^{(i)}) \\mid \\mid_2^2}_\\text{(2)} + \\alpha \\large ] \\small_+ \\tag{3}$$\n",
        "\n",
        "Here, we are using the notation \"$[z]_+$\" to denote $max(z,0)$.  \n",
        "\n",
        "Notes:\n",
        "- The term (1) is the squared distance between the anchor \"A\" and the positive \"P\" for a given triplet; you want this to be small.\n",
        "- The term (2) is the squared distance between the anchor \"A\" and the negative \"N\" for a given triplet, you want this to be relatively large, so it thus makes sense to have a minus sign preceding it.\n",
        "- $\\alpha$ is called the margin. It is a hyperparameter that you should pick manually. We will use $\\alpha = 0.2$.\n",
        "\n",
        "Most implementations also normalize the encoding vectors  to have norm equal one (i.e., $\\mid \\mid f(img)\\mid \\mid_2$=1); you won't have to worry about that here.\n",
        "\n",
        "**Exercise**: Implement the triplet loss as defined by formula (3). Here are the 4 steps:\n",
        "1. Compute the distance between the encodings of \"anchor\" and \"positive\": $\\mid \\mid f(A^{(i)}) - f(P^{(i)}) \\mid \\mid_2^2$\n",
        "2. Compute the distance between the encodings of \"anchor\" and \"negative\": $\\mid \\mid f(A^{(i)}) - f(N^{(i)}) \\mid \\mid_2^2$\n",
        "3. Compute the formula per training example: $ \\mid \\mid f(A^{(i)}) - f(P^{(i)}) \\mid - \\mid \\mid f(A^{(i)}) - f(N^{(i)}) \\mid \\mid_2^2 + \\alpha$\n",
        "3. Compute the full formula by taking the max with zero and summing over the training examples:\n",
        "$$\\mathcal{J} = \\sum^{N}_{i=1} \\large[ \\small \\mid \\mid f(A^{(i)}) - f(P^{(i)}) \\mid \\mid_2^2 - \\mid \\mid f(A^{(i)}) - f(N^{(i)}) \\mid \\mid_2^2+ \\alpha \\large ] \\small_+ \\tag{3}$$\n",
        "\n",
        "Useful functions: `tf.reduce_sum()`, `tf.square()`, `tf.subtract()`, `tf.add()`, `tf.reduce_mean`, `tf.maximum()`."
      ]
    },
    {
      "cell_type": "code",
      "execution_count": null,
      "metadata": {
        "id": "WUrgBCMcekYM"
      },
      "outputs": [],
      "source": [
        "# GRADED FUNCTION: triplet_loss\n",
        "\n",
        "def triplet_loss(y_true, y_pred, alpha = 0.2):\n",
        "    \"\"\"\n",
        "    Implementation of the triplet loss as defined by formula (3)\n",
        "\n",
        "    Arguments:\n",
        "    y_true -- true labels, required when you define a loss in Keras, you don't need it in this function.\n",
        "    y_pred -- python list containing three objects:\n",
        "            anchor -- the encodings for the anchor images, of shape (None, 128)\n",
        "            positive -- the encodings for the positive images, of shape (None, 128)\n",
        "            negative -- the encodings for the negative images, of shape (None, 128)\n",
        "\n",
        "    Returns:\n",
        "    loss -- real number, value of the loss\n",
        "    \"\"\"\n",
        "\n",
        "    anchor, positive, negative = y_pred[0], y_pred[1], y_pred[2]\n",
        "\n",
        "    ### START CODE HERE ### (≈ 4 lines)\n",
        "    # Step 1: Compute the (encoding) distance between the anchor and the positive\n",
        "    pos_dist = tf.reduce_sum(tf.square(tf.subtract(anchor, positive)))\n",
        "    # Step 2: Compute the (encoding) distance between the anchor and the negative\n",
        "    neg_dist = tf.reduce_sum(tf.square(tf.subtract(anchor, negative)))\n",
        "    # Step 3: subtract the two previous distances and add alpha.\n",
        "    basic_loss = tf.add(tf.subtract(pos_dist, neg_dist), alpha)\n",
        "    # Step 4: Take the maximum of basic_loss and 0.0. Sum over the training examples.\n",
        "    loss = tf.maximum(tf.reduce_mean(basic_loss), 0.0)\n",
        "    ### END CODE HERE ###\n",
        "\n",
        "    return loss"
      ]
    },
    {
      "cell_type": "code",
      "execution_count": null,
      "metadata": {
        "colab": {
          "base_uri": "https://localhost:8080/"
        },
        "id": "TOO0syfFekYP",
        "outputId": "3f271e1d-a57b-4b82-cdf2-c2c4d3b9865a"
      },
      "outputs": [
        {
          "output_type": "stream",
          "name": "stdout",
          "text": [
            "loss = 350.02734\n"
          ]
        }
      ],
      "source": [
        "# with tf.Session() as test:\n",
        "import tensorflow as tf\n",
        "with tf.compat.v1.Session() as test:\n",
        "#    tf.set_random_seed(1)\n",
        "    tf.random.set_seed(1)\n",
        "    y_true = (None, None, None)\n",
        "    y_pred = (tf.random.normal([3, 128], mean=6, stddev=0.1, seed = 1),\n",
        "              tf.random.normal([3, 128], mean=1, stddev=1, seed = 1),\n",
        "              tf.random.normal([3, 128], mean=3, stddev=4, seed = 1))\n",
        "    loss = triplet_loss(y_true, y_pred)\n",
        "\n",
        "    print(\"loss = \" + str(loss.eval()))\n",
        "\n"
      ]
    },
    {
      "cell_type": "markdown",
      "metadata": {
        "id": "OZL-BTeGekYS"
      },
      "source": [
        "**Expected Output**:\n",
        "\n",
        "<table>\n",
        "    <tr>\n",
        "        <td>\n",
        "            **loss**\n",
        "        </td>\n",
        "        <td>\n",
        "           350.026\n",
        "        </td>\n",
        "    </tr>\n",
        "\n",
        "</table>"
      ]
    },
    {
      "cell_type": "markdown",
      "metadata": {
        "id": "VQoiSWXyekYT"
      },
      "source": [
        "## 2 - Loading the trained model\n",
        "\n",
        "FaceNet is trained by minimizing the triplet loss. But since training requires a lot of data and a lot of computation, we won't train it from scratch here. Instead, we load a previously trained model. Load a model using the following cell; this might take a couple of minutes to run."
      ]
    },
    {
      "cell_type": "markdown",
      "metadata": {
        "id": "oemfQTSmekYX"
      },
      "source": [
        "Here're some examples of distances between the encodings between three individuals:\n",
        "\n",
        "<img src=\"//github.com/enggen/Deep-Learning-Coursera/raw/1407e19c98833d2686a0748db26b594f3102301e/Convolutional Neural Networks/Week4/Face Recognition/images/distance_matrix.png\" style=\"width:380px;height:200px;\">\n",
        "<br>\n",
        "<caption><center> <u> <font color='purple'> </u> <br>  <font color='purple'> Example of distance outputs between three individuals' encodings</center></caption>\n",
        "\n",
        "Let's now use this model to perform face verification and face recognition!"
      ]
    },
    {
      "cell_type": "code",
      "source": [
        "FRmodel.summary()"
      ],
      "metadata": {
        "colab": {
          "base_uri": "https://localhost:8080/",
          "height": 225
        },
        "id": "ri2A14sha1Pw",
        "outputId": "750750ac-3c92-41e5-bb9a-48fc7a5e4dd9"
      },
      "execution_count": null,
      "outputs": [
        {
          "output_type": "display_data",
          "data": {
            "text/plain": [
              "\u001b[1mModel: \"FaceRecoModel\"\u001b[0m\n"
            ],
            "text/html": [
              "<pre style=\"white-space:pre;overflow-x:auto;line-height:normal;font-family:Menlo,'DejaVu Sans Mono',consolas,'Courier New',monospace\"><span style=\"font-weight: bold\">Model: \"FaceRecoModel\"</span>\n",
              "</pre>\n"
            ]
          },
          "metadata": {}
        },
        {
          "output_type": "display_data",
          "data": {
            "text/plain": [
              "┏━━━━━━━━━━━━━━━━━━━━━━━━━━━━━━━━━━━━━━┳━━━━━━━━━━━━━━━━━━━━━━━━━━━━━┳━━━━━━━━━━━━━━━━━┓\n",
              "┃\u001b[1m \u001b[0m\u001b[1mLayer (type)                        \u001b[0m\u001b[1m \u001b[0m┃\u001b[1m \u001b[0m\u001b[1mOutput Shape               \u001b[0m\u001b[1m \u001b[0m┃\u001b[1m \u001b[0m\u001b[1m        Param #\u001b[0m\u001b[1m \u001b[0m┃\n",
              "┡━━━━━━━━━━━━━━━━━━━━━━━━━━━━━━━━━━━━━━╇━━━━━━━━━━━━━━━━━━━━━━━━━━━━━╇━━━━━━━━━━━━━━━━━┩\n",
              "│ input_layer_2 (\u001b[38;5;33mInputLayer\u001b[0m)           │ (\u001b[38;5;45mNone\u001b[0m, \u001b[38;5;34m3\u001b[0m, \u001b[38;5;34m96\u001b[0m, \u001b[38;5;34m96\u001b[0m)           │               \u001b[38;5;34m0\u001b[0m │\n",
              "├──────────────────────────────────────┼─────────────────────────────┼─────────────────┤\n",
              "│ dense_layer (\u001b[38;5;33mDense\u001b[0m)                  │ (\u001b[38;5;45mNone\u001b[0m, \u001b[38;5;34m3\u001b[0m, \u001b[38;5;34m96\u001b[0m, \u001b[38;5;34m128\u001b[0m)          │          \u001b[38;5;34m12,416\u001b[0m │\n",
              "├──────────────────────────────────────┼─────────────────────────────┼─────────────────┤\n",
              "│ lambda_2 (\u001b[38;5;33mLambda\u001b[0m)                    │ (\u001b[38;5;45mNone\u001b[0m, \u001b[38;5;34m128\u001b[0m)                 │               \u001b[38;5;34m0\u001b[0m │\n",
              "└──────────────────────────────────────┴─────────────────────────────┴─────────────────┘\n"
            ],
            "text/html": [
              "<pre style=\"white-space:pre;overflow-x:auto;line-height:normal;font-family:Menlo,'DejaVu Sans Mono',consolas,'Courier New',monospace\">┏━━━━━━━━━━━━━━━━━━━━━━━━━━━━━━━━━━━━━━┳━━━━━━━━━━━━━━━━━━━━━━━━━━━━━┳━━━━━━━━━━━━━━━━━┓\n",
              "┃<span style=\"font-weight: bold\"> Layer (type)                         </span>┃<span style=\"font-weight: bold\"> Output Shape                </span>┃<span style=\"font-weight: bold\">         Param # </span>┃\n",
              "┡━━━━━━━━━━━━━━━━━━━━━━━━━━━━━━━━━━━━━━╇━━━━━━━━━━━━━━━━━━━━━━━━━━━━━╇━━━━━━━━━━━━━━━━━┩\n",
              "│ input_layer_2 (<span style=\"color: #0087ff; text-decoration-color: #0087ff\">InputLayer</span>)           │ (<span style=\"color: #00d7ff; text-decoration-color: #00d7ff\">None</span>, <span style=\"color: #00af00; text-decoration-color: #00af00\">3</span>, <span style=\"color: #00af00; text-decoration-color: #00af00\">96</span>, <span style=\"color: #00af00; text-decoration-color: #00af00\">96</span>)           │               <span style=\"color: #00af00; text-decoration-color: #00af00\">0</span> │\n",
              "├──────────────────────────────────────┼─────────────────────────────┼─────────────────┤\n",
              "│ dense_layer (<span style=\"color: #0087ff; text-decoration-color: #0087ff\">Dense</span>)                  │ (<span style=\"color: #00d7ff; text-decoration-color: #00d7ff\">None</span>, <span style=\"color: #00af00; text-decoration-color: #00af00\">3</span>, <span style=\"color: #00af00; text-decoration-color: #00af00\">96</span>, <span style=\"color: #00af00; text-decoration-color: #00af00\">128</span>)          │          <span style=\"color: #00af00; text-decoration-color: #00af00\">12,416</span> │\n",
              "├──────────────────────────────────────┼─────────────────────────────┼─────────────────┤\n",
              "│ lambda_2 (<span style=\"color: #0087ff; text-decoration-color: #0087ff\">Lambda</span>)                    │ (<span style=\"color: #00d7ff; text-decoration-color: #00d7ff\">None</span>, <span style=\"color: #00af00; text-decoration-color: #00af00\">128</span>)                 │               <span style=\"color: #00af00; text-decoration-color: #00af00\">0</span> │\n",
              "└──────────────────────────────────────┴─────────────────────────────┴─────────────────┘\n",
              "</pre>\n"
            ]
          },
          "metadata": {}
        },
        {
          "output_type": "display_data",
          "data": {
            "text/plain": [
              "\u001b[1m Total params: \u001b[0m\u001b[38;5;34m12,416\u001b[0m (48.50 KB)\n"
            ],
            "text/html": [
              "<pre style=\"white-space:pre;overflow-x:auto;line-height:normal;font-family:Menlo,'DejaVu Sans Mono',consolas,'Courier New',monospace\"><span style=\"font-weight: bold\"> Total params: </span><span style=\"color: #00af00; text-decoration-color: #00af00\">12,416</span> (48.50 KB)\n",
              "</pre>\n"
            ]
          },
          "metadata": {}
        },
        {
          "output_type": "display_data",
          "data": {
            "text/plain": [
              "\u001b[1m Trainable params: \u001b[0m\u001b[38;5;34m12,416\u001b[0m (48.50 KB)\n"
            ],
            "text/html": [
              "<pre style=\"white-space:pre;overflow-x:auto;line-height:normal;font-family:Menlo,'DejaVu Sans Mono',consolas,'Courier New',monospace\"><span style=\"font-weight: bold\"> Trainable params: </span><span style=\"color: #00af00; text-decoration-color: #00af00\">12,416</span> (48.50 KB)\n",
              "</pre>\n"
            ]
          },
          "metadata": {}
        },
        {
          "output_type": "display_data",
          "data": {
            "text/plain": [
              "\u001b[1m Non-trainable params: \u001b[0m\u001b[38;5;34m0\u001b[0m (0.00 B)\n"
            ],
            "text/html": [
              "<pre style=\"white-space:pre;overflow-x:auto;line-height:normal;font-family:Menlo,'DejaVu Sans Mono',consolas,'Courier New',monospace\"><span style=\"font-weight: bold\"> Non-trainable params: </span><span style=\"color: #00af00; text-decoration-color: #00af00\">0</span> (0.00 B)\n",
              "</pre>\n"
            ]
          },
          "metadata": {}
        }
      ]
    },
    {
      "cell_type": "code",
      "source": [
        "WEIGHTS = {\n",
        "    'dense_layer': 'path/to/dense_layer_weights.csv',\n",
        "    # No weight for Lambda layer as it’s typically used for operations, not storing weights\n",
        "}"
      ],
      "metadata": {
        "id": "jiIsphK-a6oa"
      },
      "execution_count": null,
      "outputs": []
    },
    {
      "cell_type": "code",
      "source": [
        "def load_weights_from_FaceNet(FRmodel):\n",
        "    weights = WEIGHTS  # Dictionary with weight file paths\n",
        "    weights_dict = load_weights()  # Function to load weights from files\n",
        "\n",
        "    # Set layer weights of the model\n",
        "    for name in weights:\n",
        "        try:\n",
        "            layer = FRmodel.get_layer(name)\n",
        "            if layer is not None:\n",
        "                layer.set_weights(weights_dict[name])\n",
        "        except ValueError as e:\n",
        "            print(f\"Layer name {name} not found in the model. Error: {e}\")"
      ],
      "metadata": {
        "id": "j73QM9-3bDg-"
      },
      "execution_count": null,
      "outputs": []
    },
    {
      "cell_type": "code",
      "source": [
        "# Define the model\n",
        "FRmodel = faceRecoModel(input_shape=(3, 96, 96))\n",
        "\n",
        "# Compile the model\n",
        "FRmodel.compile(optimizer='adam', loss=triplet_loss, metrics=['accuracy'])\n",
        "\n",
        "# Load the pre-trained weights\n",
        "load_weights_from_FaceNet(FRmodel)"
      ],
      "metadata": {
        "colab": {
          "base_uri": "https://localhost:8080/",
          "height": 321
        },
        "id": "ZccfwZe9bHlu",
        "outputId": "23edb85a-72e7-4b60-96fb-85e731e0ff00"
      },
      "execution_count": null,
      "outputs": [
        {
          "output_type": "error",
          "ename": "KeyError",
          "evalue": "'conv1_w'",
          "traceback": [
            "\u001b[0;31m---------------------------------------------------------------------------\u001b[0m",
            "\u001b[0;31mKeyError\u001b[0m                                  Traceback (most recent call last)",
            "\u001b[0;32m<ipython-input-19-b62cb70da422>\u001b[0m in \u001b[0;36m<cell line: 8>\u001b[0;34m()\u001b[0m\n\u001b[1;32m      6\u001b[0m \u001b[0;34m\u001b[0m\u001b[0m\n\u001b[1;32m      7\u001b[0m \u001b[0;31m# Load the pre-trained weights\u001b[0m\u001b[0;34m\u001b[0m\u001b[0;34m\u001b[0m\u001b[0m\n\u001b[0;32m----> 8\u001b[0;31m \u001b[0mload_weights_from_FaceNet\u001b[0m\u001b[0;34m(\u001b[0m\u001b[0mFRmodel\u001b[0m\u001b[0;34m)\u001b[0m\u001b[0;34m\u001b[0m\u001b[0;34m\u001b[0m\u001b[0m\n\u001b[0m",
            "\u001b[0;32m<ipython-input-18-b631ca4d59fd>\u001b[0m in \u001b[0;36mload_weights_from_FaceNet\u001b[0;34m(FRmodel)\u001b[0m\n\u001b[1;32m      1\u001b[0m \u001b[0;32mdef\u001b[0m \u001b[0mload_weights_from_FaceNet\u001b[0m\u001b[0;34m(\u001b[0m\u001b[0mFRmodel\u001b[0m\u001b[0;34m)\u001b[0m\u001b[0;34m:\u001b[0m\u001b[0;34m\u001b[0m\u001b[0;34m\u001b[0m\u001b[0m\n\u001b[1;32m      2\u001b[0m     \u001b[0mweights\u001b[0m \u001b[0;34m=\u001b[0m \u001b[0mWEIGHTS\u001b[0m  \u001b[0;31m# Dictionary with weight file paths\u001b[0m\u001b[0;34m\u001b[0m\u001b[0;34m\u001b[0m\u001b[0m\n\u001b[0;32m----> 3\u001b[0;31m     \u001b[0mweights_dict\u001b[0m \u001b[0;34m=\u001b[0m \u001b[0mload_weights\u001b[0m\u001b[0;34m(\u001b[0m\u001b[0;34m)\u001b[0m  \u001b[0;31m# Function to load weights from files\u001b[0m\u001b[0;34m\u001b[0m\u001b[0;34m\u001b[0m\u001b[0m\n\u001b[0m\u001b[1;32m      4\u001b[0m \u001b[0;34m\u001b[0m\u001b[0m\n\u001b[1;32m      5\u001b[0m     \u001b[0;31m# Set layer weights of the model\u001b[0m\u001b[0;34m\u001b[0m\u001b[0;34m\u001b[0m\u001b[0m\n",
            "\u001b[0;32m/content/fr_utils.py\u001b[0m in \u001b[0;36mload_weights\u001b[0;34m()\u001b[0m\n\u001b[1;32m    155\u001b[0m     \u001b[0;32mfor\u001b[0m \u001b[0mname\u001b[0m \u001b[0;32min\u001b[0m \u001b[0mWEIGHTS\u001b[0m\u001b[0;34m:\u001b[0m\u001b[0;34m\u001b[0m\u001b[0;34m\u001b[0m\u001b[0m\n\u001b[1;32m    156\u001b[0m         \u001b[0;32mif\u001b[0m \u001b[0;34m'conv'\u001b[0m \u001b[0;32min\u001b[0m \u001b[0mname\u001b[0m\u001b[0;34m:\u001b[0m\u001b[0;34m\u001b[0m\u001b[0;34m\u001b[0m\u001b[0m\n\u001b[0;32m--> 157\u001b[0;31m             \u001b[0mconv_w\u001b[0m \u001b[0;34m=\u001b[0m \u001b[0mgenfromtxt\u001b[0m\u001b[0;34m(\u001b[0m\u001b[0mpaths\u001b[0m\u001b[0;34m[\u001b[0m\u001b[0mname\u001b[0m \u001b[0;34m+\u001b[0m \u001b[0;34m'_w'\u001b[0m\u001b[0;34m]\u001b[0m\u001b[0;34m,\u001b[0m \u001b[0mdelimiter\u001b[0m\u001b[0;34m=\u001b[0m\u001b[0;34m','\u001b[0m\u001b[0;34m,\u001b[0m \u001b[0mdtype\u001b[0m\u001b[0;34m=\u001b[0m\u001b[0;32mNone\u001b[0m\u001b[0;34m)\u001b[0m\u001b[0;34m\u001b[0m\u001b[0;34m\u001b[0m\u001b[0m\n\u001b[0m\u001b[1;32m    158\u001b[0m             \u001b[0mconv_w\u001b[0m \u001b[0;34m=\u001b[0m \u001b[0mnp\u001b[0m\u001b[0;34m.\u001b[0m\u001b[0mreshape\u001b[0m\u001b[0;34m(\u001b[0m\u001b[0mconv_w\u001b[0m\u001b[0;34m,\u001b[0m \u001b[0mconv_shape\u001b[0m\u001b[0;34m[\u001b[0m\u001b[0mname\u001b[0m\u001b[0;34m]\u001b[0m\u001b[0;34m)\u001b[0m\u001b[0;34m\u001b[0m\u001b[0;34m\u001b[0m\u001b[0m\n\u001b[1;32m    159\u001b[0m             \u001b[0mconv_w\u001b[0m \u001b[0;34m=\u001b[0m \u001b[0mnp\u001b[0m\u001b[0;34m.\u001b[0m\u001b[0mtranspose\u001b[0m\u001b[0;34m(\u001b[0m\u001b[0mconv_w\u001b[0m\u001b[0;34m,\u001b[0m \u001b[0;34m(\u001b[0m\u001b[0;36m2\u001b[0m\u001b[0;34m,\u001b[0m \u001b[0;36m3\u001b[0m\u001b[0;34m,\u001b[0m \u001b[0;36m1\u001b[0m\u001b[0;34m,\u001b[0m \u001b[0;36m0\u001b[0m\u001b[0;34m)\u001b[0m\u001b[0;34m)\u001b[0m\u001b[0;34m\u001b[0m\u001b[0;34m\u001b[0m\u001b[0m\n",
            "\u001b[0;31mKeyError\u001b[0m: 'conv1_w'"
          ]
        }
      ]
    },
    {
      "cell_type": "markdown",
      "metadata": {
        "id": "FSQJZkyWekYX"
      },
      "source": [
        "## 3 - Applying the model"
      ]
    },
    {
      "cell_type": "markdown",
      "metadata": {
        "id": "3vI2FJ0tekYY"
      },
      "source": [
        "Back to the Happy House! Residents are living blissfully since you implemented happiness recognition for the house in an earlier assignment.  \n",
        "\n",
        "However, several issues keep coming up: The Happy House became so happy that every happy person in the neighborhood is coming to hang out in your living room. It is getting really crowded, which is having a negative impact on the residents of the house. All these random happy people are also eating all your food.\n",
        "\n",
        "So, you decide to change the door entry policy, and not just let random happy people enter anymore, even if they are happy! Instead, you'd like to build a **Face verification** system so as to only let people from a specified list come in. To get admitted, each person has to swipe an ID card (identification card) to identify themselves at the door. The face recognition system then checks that they are who they claim to be."
      ]
    },
    {
      "cell_type": "markdown",
      "metadata": {
        "id": "HUDhPZ_TekYY"
      },
      "source": [
        "### 3.1 - Face Verification\n",
        "\n",
        "Let's build a database containing one encoding vector for each person allowed to enter the happy house. To generate the encoding we use `img_to_encoding(image_path, model)` which basically runs the forward propagation of the model on the specified image.\n",
        "\n",
        "Run the following code to build the database (represented as a python dictionary). This database maps each person's name to a 128-dimensional encoding of their face."
      ]
    },
    {
      "cell_type": "code",
      "execution_count": null,
      "metadata": {
        "id": "9wz8eTUQekYZ",
        "colab": {
          "base_uri": "https://localhost:8080/"
        },
        "outputId": "833f4906-8396-499c-8cd2-f4419a13d695"
      },
      "outputs": [
        {
          "output_type": "stream",
          "name": "stdout",
          "text": [
            "Encoded danielle's face and added to database.\n",
            "Encoded younes's face and added to database.\n",
            "Encoded tian's face and added to database.\n",
            "Encoded andrew's face and added to database.\n",
            "Encoded kian's face and added to database.\n",
            "Encoded dan's face and added to database.\n",
            "Encoded sebastiano's face and added to database.\n",
            "Encoded bertrand's face and added to database.\n",
            "Encoded kevin's face and added to database.\n",
            "Encoded felix's face and added to database.\n",
            "Encoded benoit's face and added to database.\n",
            "Encoded arnaud's face and added to database.\n",
            "danielle: (1, 3, 96, 128)\n",
            "younes: (1, 3, 96, 128)\n",
            "tian: (1, 3, 96, 128)\n",
            "andrew: (1, 3, 96, 128)\n",
            "kian: (1, 3, 96, 128)\n",
            "dan: (1, 3, 96, 128)\n",
            "sebastiano: (1, 3, 96, 128)\n",
            "bertrand: (1, 3, 96, 128)\n",
            "kevin: (1, 3, 96, 128)\n",
            "felix: (1, 3, 96, 128)\n",
            "benoit: (1, 3, 96, 128)\n",
            "arnaud: (1, 3, 96, 128)\n"
          ]
        }
      ],
      "source": [
        "import numpy as np\n",
        "import tensorflow as tf\n",
        "from tensorflow.keras.layers import Input, Dense, Lambda\n",
        "from tensorflow.keras.models import Model\n",
        "import tensorflow.keras.backend as K\n",
        "\n",
        "def faceRecoModel(input_shape):\n",
        "    X_input = Input(input_shape)\n",
        "    X = Dense(128, name='dense_layer')(X_input)\n",
        "    X = Lambda(lambda x: K.l2_normalize(x, axis=1), output_shape=(128,))(X)\n",
        "    model = Model(inputs=X_input, outputs=X, name='FaceRecoModel')\n",
        "    return model\n",
        "\n",
        "def img_to_encoding(image_path, model):\n",
        "    # Dummy implementation, replace with actual image encoding function\n",
        "    img = np.random.rand(96, 96, 3)  # Replace with actual image loading and preprocessing\n",
        "    img = np.around(np.transpose(img, (2, 0, 1)) / 255.0, decimals=12)\n",
        "    x_train = np.array([img])\n",
        "    encoding = model.predict_on_batch(x_train)\n",
        "    return encoding\n",
        "\n",
        "# Initialize the model\n",
        "FRmodel = faceRecoModel(input_shape=(3, 96, 96))\n",
        "FRmodel.compile(optimizer='adam', loss='triplet_loss', metrics=['accuracy'])\n",
        "\n",
        "# Build the database\n",
        "def build_database(image_paths, model):\n",
        "    database = {}\n",
        "    for name, path in image_paths.items():\n",
        "        try:\n",
        "            encoding = img_to_encoding(path, model)\n",
        "            database[name] = encoding\n",
        "            print(f\"Encoded {name}'s face and added to database.\")\n",
        "        except Exception as e:\n",
        "            print(f\"Error encoding {name}'s face: {e}\")\n",
        "    return database\n",
        "\n",
        "# Dictionary with names and paths to images\n",
        "image_paths = {\n",
        "    \"danielle\": \"images/danielle.png\",\n",
        "    \"younes\": \"images/younes.jpg\",\n",
        "    \"tian\": \"images/tian.jpg\",\n",
        "    \"andrew\": \"images/andrew.jpg\",\n",
        "    \"kian\": \"images/kian.jpg\",\n",
        "    \"dan\": \"images/dan.jpg\",\n",
        "    \"sebastiano\": \"images/sebastiano.jpg\",\n",
        "    \"bertrand\": \"images/bertrand.jpg\",\n",
        "    \"kevin\": \"images/kevin.jpg\",\n",
        "    \"felix\": \"images/felix.jpg\",\n",
        "    \"benoit\": \"images/benoit.jpg\",\n",
        "    \"arnaud\": \"images/arnaud.jpg\"\n",
        "}\n",
        "\n",
        "# Build the database\n",
        "database = build_database(image_paths, FRmodel)\n",
        "\n",
        "# Example to print the database structure\n",
        "for name, encoding in database.items():\n",
        "    print(f\"{name}: {encoding.shape}\")"
      ]
    },
    {
      "cell_type": "markdown",
      "metadata": {
        "id": "JQmV-qpKekYb"
      },
      "source": [
        "Now, when someone shows up at your front door and swipes their ID card (thus giving you their name), you can look up their encoding in the database, and use it to check if the person standing at the front door matches the name on the ID.\n",
        "\n",
        "**Exercise**: Implement the verify() function which checks if the front-door camera picture (`image_path`) is actually the person called \"identity\". You will have to go through the following steps:\n",
        "1. Compute the encoding of the image from image_path\n",
        "2. Compute the distance about this encoding and the encoding of the identity image stored in the database\n",
        "3. Open the door if the distance is less than 0.7, else do not open.\n",
        "\n",
        "As presented above, you should use the L2 distance (np.linalg.norm). (Note: In this implementation, compare the L2 distance, not the square of the L2 distance, to the threshold 0.7.)"
      ]
    },
    {
      "cell_type": "code",
      "execution_count": null,
      "metadata": {
        "id": "loLof3vRekYc"
      },
      "outputs": [],
      "source": [
        "# GRADED FUNCTION: verify\n",
        "\n",
        "def verify(image_path, identity, database, model):\n",
        "    \"\"\"\n",
        "    Function that verifies if the person on the \"image_path\" image is \"identity\".\n",
        "\n",
        "    Arguments:\n",
        "    image_path -- path to an image\n",
        "    identity -- string, name of the person you'd like to verify the identity. Has to be a resident of the Happy house.\n",
        "    database -- python dictionary mapping names of allowed people's names (strings) to their encodings (vectors).\n",
        "    model -- your Inception model instance in Keras\n",
        "\n",
        "    Returns:\n",
        "    dist -- distance between the image_path and the image of \"identity\" in the database.\n",
        "    door_open -- True, if the door should open. False otherwise.\n",
        "    \"\"\"\n",
        "\n",
        "    ### START CODE HERE ###\n",
        "\n",
        "    # Step 1: Compute the encoding for the image. Use img_to_encoding() see example above. (≈ 1 line)\n",
        "    encoding = img_to_encoding(image_path, model)\n",
        "\n",
        "    # Step 2: Compute distance with identity's image (≈ 1 line)\n",
        "    dist = np.linalg.norm(encoding-database[identity])\n",
        "\n",
        "    # Step 3: Open the door if dist < 0.7, else don't open (≈ 3 lines)\n",
        "    if dist < 0.7:\n",
        "        print(\"It's \" + str(identity) + \", welcome home!\")\n",
        "        door_open = True\n",
        "    else:\n",
        "        print(\"It's not \" + str(identity) + \", please go away\")\n",
        "        door_open = False\n",
        "\n",
        "    ### END CODE HERE ###\n",
        "\n",
        "    return dist, door_open"
      ]
    },
    {
      "cell_type": "markdown",
      "metadata": {
        "id": "OF95_hYDekYi"
      },
      "source": [
        "Younes is trying to enter the Happy House and the camera takes a picture of him (\"images/camera_0.jpg\"). Let's run your verification algorithm on this picture:\n",
        "\n",
        "<img src=\"//github.com/enggen/Deep-Learning-Coursera/raw/1407e19c98833d2686a0748db26b594f3102301e/Convolutional Neural Networks/Week4/Face Recognition/images/camera_0.jpg\" style=\"width:100px;height:100px;\">"
      ]
    },
    {
      "cell_type": "code",
      "execution_count": null,
      "metadata": {
        "colab": {
          "base_uri": "https://localhost:8080/"
        },
        "id": "E5d4AVPzekYi",
        "outputId": "6d7dbfcc-69d9-4a7f-825f-84b4f40ca758"
      },
      "outputs": [
        {
          "output_type": "stream",
          "name": "stdout",
          "text": [
            "It's not younes, please go away\n"
          ]
        },
        {
          "output_type": "execute_result",
          "data": {
            "text/plain": [
              "(103.26127, False)"
            ]
          },
          "metadata": {},
          "execution_count": 22
        }
      ],
      "source": [
        "verify(\"images/camera_0.jpg\", \"younes\", database, FRmodel)"
      ]
    },
    {
      "cell_type": "markdown",
      "metadata": {
        "collapsed": true,
        "id": "iyn2aYMqekYl",
        "jupyter": {
          "outputs_hidden": true
        }
      },
      "source": [
        "**Expected Output**:\n",
        "\n",
        "<table>\n",
        "    <tr>\n",
        "        <td>\n",
        "            **It's younes, welcome home!**\n",
        "        </td>\n",
        "        <td>\n",
        "           (0.65939283, True)\n",
        "        </td>\n",
        "    </tr>\n",
        "\n",
        "</table>"
      ]
    },
    {
      "cell_type": "markdown",
      "metadata": {
        "collapsed": true,
        "id": "Vjk_QdZTekYm",
        "jupyter": {
          "outputs_hidden": true
        }
      },
      "source": [
        "Benoit, who broke the aquarium last weekend, has been banned from the house and removed from the database. He stole Kian's ID card and came back to the house to try to present himself as Kian. The front-door camera took a picture of Benoit (\"images/camera_2.jpg). Let's run the verification algorithm to check if benoit can enter.\n",
        "<img src=\"images/camera_2.jpg\" style=\"width:100px;height:100px;\">"
      ]
    },
    {
      "cell_type": "code",
      "execution_count": null,
      "metadata": {
        "colab": {
          "base_uri": "https://localhost:8080/"
        },
        "id": "hAfG7SbQekYm",
        "outputId": "89924136-b366-4004-f5e0-1a5c029ad5fe"
      },
      "outputs": [
        {
          "output_type": "stream",
          "name": "stdout",
          "text": [
            "It's not kian, please go away\n"
          ]
        },
        {
          "output_type": "execute_result",
          "data": {
            "text/plain": [
              "(104.054214, False)"
            ]
          },
          "metadata": {},
          "execution_count": 23
        }
      ],
      "source": [
        "verify(\"images/camera_2.jpg\", \"kian\", database, FRmodel)"
      ]
    },
    {
      "cell_type": "markdown",
      "metadata": {
        "id": "v60OtVDGekYp"
      },
      "source": [
        "**Expected Output**:\n",
        "\n",
        "<table>\n",
        "    <tr>\n",
        "        <td>\n",
        "            **It's not kian, please go away**\n",
        "        </td>\n",
        "        <td>\n",
        "           (0.86224014, False)\n",
        "        </td>\n",
        "    </tr>\n",
        "\n",
        "</table>"
      ]
    },
    {
      "cell_type": "markdown",
      "metadata": {
        "id": "oCwATPgaekYp"
      },
      "source": [
        "### 3.2 - Face Recognition\n",
        "\n",
        "Your face verification system is mostly working well. But since Kian got his ID card stolen, when he came back to the house that evening he couldn't get in!\n",
        "\n",
        "To reduce such shenanigans, you'd like to change your face verification system to a face recognition system. This way, no one has to carry an ID card anymore. An authorized person can just walk up to the house, and the front door will unlock for them!\n",
        "\n",
        "You'll implement a face recognition system that takes as input an image, and figures out if it is one of the authorized persons (and if so, who). Unlike the previous face verification system, we will no longer get a person's name as another input.\n",
        "\n",
        "**Exercise**: Implement `who_is_it()`. You will have to go through the following steps:\n",
        "1. Compute the target encoding of the image from image_path\n",
        "2. Find the encoding from the database that has smallest distance with the target encoding.\n",
        "    - Initialize the `min_dist` variable to a large enough number (100). It will help you keep track of what is the closest encoding to the input's encoding.\n",
        "    - Loop over the database dictionary's names and encodings. To loop use `for (name, db_enc) in database.items()`.\n",
        "        - Compute L2 distance between the target \"encoding\" and the current \"encoding\" from the database.\n",
        "        - If this distance is less than the min_dist, then set min_dist to dist, and identity to name."
      ]
    },
    {
      "cell_type": "code",
      "execution_count": null,
      "metadata": {
        "id": "71ruCyQAekYq"
      },
      "outputs": [],
      "source": [
        "import numpy as np\n",
        "from fr_utils import img_to_encoding\n",
        "\n",
        "def who_is_it(image_path, database, model):\n",
        "    \"\"\"\n",
        "    Given an image_path and a database of known faces, return who the person in the image is.\n",
        "    \"\"\"\n",
        "    # Step 1: Compute the encoding for the image\n",
        "    encoding = img_to_encoding(image_path, model)\n",
        "\n",
        "    # Initialize variables to store the minimum distance and the corresponding identity\n",
        "    min_dist = float('inf')\n",
        "    identity = None\n",
        "    output_data = None\n",
        "\n",
        "    # Step 2: Loop over the database to find the closest match\n",
        "    for name, db_encoding in database.items():\n",
        "        # Compute the distance between the input image encoding and the database image encoding\n",
        "        dist = np.linalg.norm(encoding - db_encoding)\n",
        "\n",
        "        # Check if the distance is the smallest one seen so far\n",
        "        if dist < min_dist:\n",
        "            min_dist = dist\n",
        "            identity = name\n",
        "            output_data = dist\n",
        "\n",
        "    # Check if identity was found\n",
        "    if identity is not None:\n",
        "        print(f\"it's {identity}, the distance is {min_dist}\")\n",
        "    else:\n",
        "        print(\"Not in the database.\")\n",
        "\n",
        "    return min_dist, identity, output_data"
      ]
    },
    {
      "cell_type": "markdown",
      "metadata": {
        "id": "-fC65aokekYu"
      },
      "source": [
        "Younes is at the front-door and the camera takes a picture of him (\"images/camera_0.jpg\"). Let's see if your who_it_is() algorithm identifies Younes."
      ]
    },
    {
      "cell_type": "code",
      "execution_count": null,
      "metadata": {
        "colab": {
          "base_uri": "https://localhost:8080/"
        },
        "id": "3SHxih8cekYu",
        "outputId": "269c9a0c-c748-47d5-d91e-f9b4fc0b2f52"
      },
      "outputs": [
        {
          "output_type": "stream",
          "name": "stdout",
          "text": [
            "it's kevin, the distance is 95.46762084960938\n"
          ]
        }
      ],
      "source": [
        "output = who_is_it(\"images/camera_0.jpg\", database, FRmodel)"
      ]
    },
    {
      "cell_type": "markdown",
      "metadata": {
        "id": "7yNMrp3sekYx"
      },
      "source": [
        "**Expected Output**:\n",
        "\n",
        "<table>\n",
        "    <tr>\n",
        "        <td>\n",
        "            **it's younes, the distance is 0.659393**\n",
        "        </td>\n",
        "        <td>\n",
        "           (0.65939283, 'younes')\n",
        "        </td>\n",
        "    </tr>\n",
        "\n",
        "</table>"
      ]
    },
    {
      "cell_type": "code",
      "execution_count": null,
      "metadata": {
        "id": "IwY0GeYmhkp7",
        "colab": {
          "base_uri": "https://localhost:8080/"
        },
        "outputId": "38b53910-fb62-4f10-b04e-f03a17437bfd"
      },
      "outputs": [
        {
          "output_type": "execute_result",
          "data": {
            "text/plain": [
              "95.46762"
            ]
          },
          "metadata": {},
          "execution_count": 28
        }
      ],
      "source": [
        "#dictionary contains the L2 distance between target image encoding and database embeddings of other images\n",
        "output[2]"
      ]
    },
    {
      "cell_type": "markdown",
      "source": [
        "Question 6"
      ],
      "metadata": {
        "id": "4GFYGgCuc8AM"
      }
    },
    {
      "cell_type": "code",
      "source": [
        "import numpy as np\n",
        "from keras.preprocessing import image\n",
        "from keras.models import load_model\n",
        "from keras.applications.vgg16 import preprocess_input\n",
        "\n",
        "def img_to_encoding(image_path, model):\n",
        "    # Load the image with target size (96, 96)\n",
        "    img = image.load_img(image_path, target_size=(96, 96))\n",
        "\n",
        "    # Convert image to NumPy array\n",
        "    img = image.img_to_array(img)\n",
        "\n",
        "    # Normalize the image\n",
        "    img = np.around(img / 255.0, decimals=12)\n",
        "\n",
        "    # Convert from HWC to CHW format\n",
        "    img = np.transpose(img, (2, 0, 1))\n",
        "\n",
        "    # Add batch dimension\n",
        "    img = np.expand_dims(img, axis=0)\n",
        "\n",
        "    # Debugging: Print shape of the input tensor\n",
        "    print(f\"Input shape to model: {img.shape}\")\n",
        "\n",
        "    # Perform prediction\n",
        "    embedding = model.predict_on_batch(img)\n",
        "\n",
        "    return embedding\n",
        "\n",
        "# Load model (assuming FRmodel is defined properly)\n",
        "# FRmodel = load_model('path_to_your_model.h5')\n",
        "\n",
        "# Add new person to database\n",
        "try:\n",
        "    lil_nadun_encoding = img_to_encoding(\"images/lil_nadun.jpg\", FRmodel)\n",
        "    database[\"X\"] = lil_nadun_encoding\n",
        "except Exception as e:\n",
        "    print(f\"Error: {e}\")"
      ],
      "metadata": {
        "colab": {
          "base_uri": "https://localhost:8080/"
        },
        "id": "wq_OgFkWdCE2",
        "outputId": "53e943b6-caea-4ed7-cf62-e461f89df27c"
      },
      "execution_count": null,
      "outputs": [
        {
          "output_type": "stream",
          "name": "stdout",
          "text": [
            "Input shape to model: (1, 96, 3, 96)\n"
          ]
        }
      ]
    },
    {
      "cell_type": "code",
      "source": [
        "import tensorflow as tf\n",
        "\n",
        "def resize_image(image_path, target_size=(96, 96)):\n",
        "    image = tf.io.read_file(image_path)\n",
        "    image = tf.image.decode_image(image, channels=3)\n",
        "    image = tf.image.resize(image, target_size)\n",
        "    image = tf.cast(image, tf.float32) / 255.0\n",
        "    return image\n",
        "\n",
        "resized_image = resize_image(\"images/kibs.jpg\")"
      ],
      "metadata": {
        "id": "3iYnVC_Fc43G"
      },
      "execution_count": null,
      "outputs": []
    },
    {
      "cell_type": "code",
      "source": [
        "import numpy as np\n",
        "import tensorflow as tf\n",
        "\n",
        "def resize_image(image_path, target_size=(96, 96)):\n",
        "    image = tf.io.read_file(image_path)\n",
        "    image = tf.image.decode_image(image, channels=3)\n",
        "    image = tf.image.resize(image, target_size)\n",
        "    image = tf.cast(image, tf.float32) / 255.0\n",
        "    return image\n",
        "\n",
        "def img_to_encoding(image_path, model):\n",
        "    # Resize the image\n",
        "    img = resize_image(image_path)\n",
        "    img = np.expand_dims(img, axis=0)\n",
        "    print(f\"Input shape to model: {img.shape}\")\n",
        "\n",
        "    # Transpose the dimensions to (batch_size, channels, height, width)\n",
        "    img = tf.transpose(img, perm=[0, 3, 1, 2])  # Transpose to (batch_size, channels, height, width)\n",
        "\n",
        "    # Perform prediction\n",
        "    embedding = model.predict_on_batch(img)\n",
        "    return embedding"
      ],
      "metadata": {
        "id": "J8yXSncfeRz5"
      },
      "execution_count": null,
      "outputs": []
    },
    {
      "cell_type": "code",
      "source": [
        "database = {}\n",
        "x_encoding = img_to_encoding(\"images/lil_nadun.jpg\", FRmodel)\n",
        "database[\"X\"] = x_encoding"
      ],
      "metadata": {
        "colab": {
          "base_uri": "https://localhost:8080/"
        },
        "id": "Wxs-POfieY08",
        "outputId": "650e2d05-c683-431a-e6ae-c2c20ccab9a5"
      },
      "execution_count": null,
      "outputs": [
        {
          "output_type": "stream",
          "name": "stdout",
          "text": [
            "Input shape to model: (1, 96, 96, 3)\n"
          ]
        }
      ]
    },
    {
      "cell_type": "code",
      "source": [
        "# Encode the new test image\n",
        "test_image_encoding = img_to_encoding(\"images/kibs.jpg\", FRmodel)\n",
        "\n",
        "# Perform face verification\n",
        "def verify_face(test_encoding, database_encoding, threshold=0.7):\n",
        "    dist = np.linalg.norm(test_encoding - database_encoding)\n",
        "    return dist < threshold\n",
        "\n",
        "is_verified = verify_face(test_image_encoding, database[\"X\"], threshold=0.8)\n",
        "print(\"Face Verified:\", is_verified)"
      ],
      "metadata": {
        "colab": {
          "base_uri": "https://localhost:8080/"
        },
        "id": "gjvP_JMze3A2",
        "outputId": "a25d5b0f-5d5d-4bf4-d62d-ebd15e5c11fc"
      },
      "execution_count": null,
      "outputs": [
        {
          "output_type": "stream",
          "name": "stdout",
          "text": [
            "Input shape to model: (1, 96, 96, 3)\n",
            "Face Verified: False\n"
          ]
        }
      ]
    },
    {
      "cell_type": "code",
      "source": [
        "output = who_is_it(\"images/kibs.jpg\", database, FRmodel)\n",
        "print(output)"
      ],
      "metadata": {
        "colab": {
          "base_uri": "https://localhost:8080/"
        },
        "id": "qbQP6mWrfBsS",
        "outputId": "c345a1b7-a14d-4a23-a7ef-8707877ad9a3"
      },
      "execution_count": null,
      "outputs": [
        {
          "output_type": "stream",
          "name": "stdout",
          "text": [
            "Input shape to model: (1, 96, 96, 3)\n",
            "it's X, the distance is 85.95157623291016\n",
            "(85.95158, 'X', 85.95158)\n"
          ]
        }
      ]
    },
    {
      "cell_type": "code",
      "source": [
        "print(\"Database content:\", database)"
      ],
      "metadata": {
        "colab": {
          "base_uri": "https://localhost:8080/"
        },
        "id": "Hewso3Z-fJ03",
        "outputId": "3dc878d9-751b-4ff6-9741-8e6e57e33fbb"
      },
      "execution_count": null,
      "outputs": [
        {
          "output_type": "stream",
          "name": "stdout",
          "text": [
            "Database content: {'X': array([[[[ 0.6278404 , -0.6213507 , -0.7179638 , ...,  0.68538916,\n",
            "           0.63683033,  0.6515854 ],\n",
            "         [ 0.7567249 , -0.7125553 , -0.7101299 , ...,  0.9228122 ,\n",
            "           0.79105127,  0.6582928 ],\n",
            "         [ 0.84727466, -0.8148584 , -0.9571995 , ...,  0.83480287,\n",
            "           0.73597616,  0.7490001 ],\n",
            "         ...,\n",
            "         [ 0.86959857, -0.81234866, -0.82805854, ...,  0.833406  ,\n",
            "           0.78321457,  0.68893915],\n",
            "         [ 0.8118683 , -0.83166856, -0.95832986, ...,  0.8017115 ,\n",
            "           0.8178092 ,  0.30833632],\n",
            "         [ 0.9321689 , -0.9849271 , -0.7726298 , ...,  0.9956527 ,\n",
            "           0.9625151 , -0.3913779 ]],\n",
            "\n",
            "        [[ 0.63446546, -0.62096566, -0.66899425, ...,  0.6790259 ,\n",
            "           0.62842166,  0.63223624],\n",
            "         [ 0.54231405, -0.54691124, -0.57314414, ...,  0.3807869 ,\n",
            "           0.5565355 , -0.13414444],\n",
            "         [ 0.44057497, -0.47997144, -0.19246806, ...,  0.45020792,\n",
            "           0.5481759 ,  0.59064573],\n",
            "         ...,\n",
            "         [ 0.46476316, -0.5118498 ,  0.39976686, ...,  0.49072468,\n",
            "           0.55574924,  0.63711184],\n",
            "         [ 0.4976243 , -0.4886224 , -0.18690412, ...,  0.50579053,\n",
            "           0.5001849 , -0.52169687],\n",
            "         [ 0.3618348 , -0.02972104, -0.5136493 , ...,  0.07169273,\n",
            "           0.2569003 , -0.59277487]],\n",
            "\n",
            "        [[ 0.45085463, -0.4778337 , -0.19228813, ...,  0.2629934 ,\n",
            "           0.44669154,  0.41918227],\n",
            "         [ 0.36505187, -0.4394918 , -0.40892693, ..., -0.05847103,\n",
            "           0.25398082, -0.740713  ],\n",
            "         [ 0.29668033, -0.3250126 , -0.21616007, ...,  0.31688628,\n",
            "           0.3972939 ,  0.30022776],\n",
            "         ...,\n",
            "         [ 0.16671363, -0.2794628 ,  0.39307177, ...,  0.25421226,\n",
            "           0.27877888,  0.34561726],\n",
            "         [ 0.30535212, -0.26377192, -0.21603398, ...,  0.31848803,\n",
            "           0.2846108 , -0.7954627 ],\n",
            "         [ 0.01169054,  0.17039712, -0.3731054 , ..., -0.05946283,\n",
            "          -0.08698751, -0.7038759 ]]]], dtype=float32)}\n"
          ]
        }
      ]
    },
    {
      "cell_type": "code",
      "source": [
        "print(\"Database Encoding:\", database[\"X\"])\n",
        "print(\"Test Image Encoding:\", test_image_encoding)"
      ],
      "metadata": {
        "colab": {
          "base_uri": "https://localhost:8080/"
        },
        "id": "7authoyNfO-Z",
        "outputId": "15ec8e27-0c99-433c-99fb-caaad9d1bf49"
      },
      "execution_count": null,
      "outputs": [
        {
          "output_type": "stream",
          "name": "stdout",
          "text": [
            "Database Encoding: [[[[ 0.6278404  -0.6213507  -0.7179638  ...  0.68538916  0.63683033\n",
            "     0.6515854 ]\n",
            "   [ 0.7567249  -0.7125553  -0.7101299  ...  0.9228122   0.79105127\n",
            "     0.6582928 ]\n",
            "   [ 0.84727466 -0.8148584  -0.9571995  ...  0.83480287  0.73597616\n",
            "     0.7490001 ]\n",
            "   ...\n",
            "   [ 0.86959857 -0.81234866 -0.82805854 ...  0.833406    0.78321457\n",
            "     0.68893915]\n",
            "   [ 0.8118683  -0.83166856 -0.95832986 ...  0.8017115   0.8178092\n",
            "     0.30833632]\n",
            "   [ 0.9321689  -0.9849271  -0.7726298  ...  0.9956527   0.9625151\n",
            "    -0.3913779 ]]\n",
            "\n",
            "  [[ 0.63446546 -0.62096566 -0.66899425 ...  0.6790259   0.62842166\n",
            "     0.63223624]\n",
            "   [ 0.54231405 -0.54691124 -0.57314414 ...  0.3807869   0.5565355\n",
            "    -0.13414444]\n",
            "   [ 0.44057497 -0.47997144 -0.19246806 ...  0.45020792  0.5481759\n",
            "     0.59064573]\n",
            "   ...\n",
            "   [ 0.46476316 -0.5118498   0.39976686 ...  0.49072468  0.55574924\n",
            "     0.63711184]\n",
            "   [ 0.4976243  -0.4886224  -0.18690412 ...  0.50579053  0.5001849\n",
            "    -0.52169687]\n",
            "   [ 0.3618348  -0.02972104 -0.5136493  ...  0.07169273  0.2569003\n",
            "    -0.59277487]]\n",
            "\n",
            "  [[ 0.45085463 -0.4778337  -0.19228813 ...  0.2629934   0.44669154\n",
            "     0.41918227]\n",
            "   [ 0.36505187 -0.4394918  -0.40892693 ... -0.05847103  0.25398082\n",
            "    -0.740713  ]\n",
            "   [ 0.29668033 -0.3250126  -0.21616007 ...  0.31688628  0.3972939\n",
            "     0.30022776]\n",
            "   ...\n",
            "   [ 0.16671363 -0.2794628   0.39307177 ...  0.25421226  0.27877888\n",
            "     0.34561726]\n",
            "   [ 0.30535212 -0.26377192 -0.21603398 ...  0.31848803  0.2846108\n",
            "    -0.7954627 ]\n",
            "   [ 0.01169054  0.17039712 -0.3731054  ... -0.05946283 -0.08698751\n",
            "    -0.7038759 ]]]]\n",
            "Test Image Encoding: [[[[ 0.54160196 -0.55190164 -0.5271703  ...  0.5427011   0.5512216\n",
            "     0.5416354 ]\n",
            "   [ 0.5444108  -0.5513282  -0.5407419  ...  0.53423244  0.5518953\n",
            "     0.5520267 ]\n",
            "   [ 0.54559296 -0.5488335  -0.5430849  ...  0.53602785  0.54598516\n",
            "     0.5202326 ]\n",
            "   ...\n",
            "   [ 0.7238326  -0.71777236  0.8624834  ...  0.79840004  0.72479874\n",
            "     0.732049  ]\n",
            "   [ 0.75040543 -0.6931749  -0.31445825 ...  0.88369733  0.7193371\n",
            "     0.7902656 ]\n",
            "   [ 0.71126723 -0.690213    0.79907286 ...  0.66234046  0.7732979\n",
            "     0.8047625 ]]\n",
            "\n",
            "  [[ 0.5809923  -0.57899535 -0.57244235 ...  0.5818887   0.5813518\n",
            "     0.5874556 ]\n",
            "   [ 0.57761216 -0.58163655 -0.57395047 ...  0.58204573  0.5847795\n",
            "     0.6007405 ]\n",
            "   [ 0.5770503  -0.57812357 -0.56596875 ...  0.57704103  0.5806222\n",
            "     0.5999693 ]\n",
            "   ...\n",
            "   [ 0.56310594 -0.5664234   0.4990862  ...  0.5431013   0.56969804\n",
            "     0.5496848 ]\n",
            "   [ 0.55786204 -0.57527715 -0.55929494 ...  0.40417886  0.5648385\n",
            "     0.5419139 ]\n",
            "   [ 0.56571966 -0.577259   -0.14086455 ...  0.58021754  0.5460271\n",
            "     0.53605646]]\n",
            "\n",
            "  [[ 0.60754865 -0.6001408  -0.62801385 ...  0.6057071   0.59848547\n",
            "     0.6012713 ]\n",
            "   [ 0.60826075 -0.5981105  -0.61496246 ...  0.61304027  0.594512\n",
            "     0.57825375]\n",
            "   [ 0.60773456 -0.6037838  -0.6202726  ...  0.61619616  0.60396856\n",
            "     0.6077785 ]\n",
            "   ...\n",
            "   [ 0.39872056 -0.40492877 -0.0838774  ...  0.25999677  0.38744146\n",
            "     0.4024311 ]\n",
            "   [ 0.35451588 -0.43424028 -0.7670105  ... -0.2360476   0.40436575\n",
            "     0.28602377]\n",
            "   [ 0.4172052  -0.43632334 -0.5844995  ...  0.47397554  0.32228044\n",
            "     0.25495252]]]]\n"
          ]
        }
      ]
    },
    {
      "cell_type": "code",
      "source": [
        "# Ensure resize_image returns the correct shape\n",
        "resized_image = resize_image(\"images/kibs.jpg\")\n",
        "print(f\"Resized image shape: {resized_image.shape}\")\n",
        "\n",
        "# Encode the new test image\n",
        "test_image_encoding = img_to_encoding(\"images/kibs.jpg\", FRmodel)\n",
        "\n",
        "# Print out the encoding values\n",
        "print(\"Test Image Encoding:\", test_image_encoding)\n",
        "\n",
        "# Perform face verification\n",
        "def verify_face(test_encoding, database_encoding, threshold=0.6):\n",
        "    dist = np.linalg.norm(test_encoding - database_encoding)\n",
        "    print(f\"Distance between test and database encodings: {dist}\")\n",
        "    return dist < threshold\n",
        "\n",
        "is_verified = verify_face(test_image_encoding, database[\"X\"])\n",
        "print(\"Face Verified:\", is_verified)"
      ],
      "metadata": {
        "colab": {
          "base_uri": "https://localhost:8080/"
        },
        "id": "mV5WVlfSfV-J",
        "outputId": "01dd0308-8e46-40b1-e700-07bae6cf481e"
      },
      "execution_count": null,
      "outputs": [
        {
          "output_type": "stream",
          "name": "stdout",
          "text": [
            "Resized image shape: (96, 96, 3)\n",
            "Input shape to model: (1, 96, 96, 3)\n",
            "Test Image Encoding: [[[[ 0.54160196 -0.55190164 -0.5271703  ...  0.5427011   0.5512216\n",
            "     0.5416354 ]\n",
            "   [ 0.5444108  -0.5513282  -0.5407419  ...  0.53423244  0.5518953\n",
            "     0.5520267 ]\n",
            "   [ 0.54559296 -0.5488335  -0.5430849  ...  0.53602785  0.54598516\n",
            "     0.5202326 ]\n",
            "   ...\n",
            "   [ 0.7238326  -0.71777236  0.8624834  ...  0.79840004  0.72479874\n",
            "     0.732049  ]\n",
            "   [ 0.75040543 -0.6931749  -0.31445825 ...  0.88369733  0.7193371\n",
            "     0.7902656 ]\n",
            "   [ 0.71126723 -0.690213    0.79907286 ...  0.66234046  0.7732979\n",
            "     0.8047625 ]]\n",
            "\n",
            "  [[ 0.5809923  -0.57899535 -0.57244235 ...  0.5818887   0.5813518\n",
            "     0.5874556 ]\n",
            "   [ 0.57761216 -0.58163655 -0.57395047 ...  0.58204573  0.5847795\n",
            "     0.6007405 ]\n",
            "   [ 0.5770503  -0.57812357 -0.56596875 ...  0.57704103  0.5806222\n",
            "     0.5999693 ]\n",
            "   ...\n",
            "   [ 0.56310594 -0.5664234   0.4990862  ...  0.5431013   0.56969804\n",
            "     0.5496848 ]\n",
            "   [ 0.55786204 -0.57527715 -0.55929494 ...  0.40417886  0.5648385\n",
            "     0.5419139 ]\n",
            "   [ 0.56571966 -0.577259   -0.14086455 ...  0.58021754  0.5460271\n",
            "     0.53605646]]\n",
            "\n",
            "  [[ 0.60754865 -0.6001408  -0.62801385 ...  0.6057071   0.59848547\n",
            "     0.6012713 ]\n",
            "   [ 0.60826075 -0.5981105  -0.61496246 ...  0.61304027  0.594512\n",
            "     0.57825375]\n",
            "   [ 0.60773456 -0.6037838  -0.6202726  ...  0.61619616  0.60396856\n",
            "     0.6077785 ]\n",
            "   ...\n",
            "   [ 0.39872056 -0.40492877 -0.0838774  ...  0.25999677  0.38744146\n",
            "     0.4024311 ]\n",
            "   [ 0.35451588 -0.43424028 -0.7670105  ... -0.2360476   0.40436575\n",
            "     0.28602377]\n",
            "   [ 0.4172052  -0.43632334 -0.5844995  ...  0.47397554  0.32228044\n",
            "     0.25495252]]]]\n",
            "Distance between test and database encodings: 85.95157623291016\n",
            "Face Verified: False\n"
          ]
        }
      ]
    },
    {
      "cell_type": "code",
      "source": [
        "img = resize_image(\"images/kibi_dogg.jpg\")\n",
        "print(f\"Resized test image shape: {img.shape}\")"
      ],
      "metadata": {
        "colab": {
          "base_uri": "https://localhost:8080/"
        },
        "id": "eOpsTsFOfkTZ",
        "outputId": "b512c750-f38a-423a-be84-f479c857d60e"
      },
      "execution_count": null,
      "outputs": [
        {
          "output_type": "stream",
          "name": "stdout",
          "text": [
            "Resized test image shape: (96, 96, 3)\n"
          ]
        }
      ]
    },
    {
      "cell_type": "code",
      "source": [
        "test_image_encoding = img_to_encoding(\"images/kibs.jpg\", FRmodel)\n",
        "print(\"Test Image Encoding Shape:\", test_image_encoding.shape)"
      ],
      "metadata": {
        "colab": {
          "base_uri": "https://localhost:8080/"
        },
        "id": "Jnbv6dbUftTM",
        "outputId": "cb5210c6-3c9f-4571-ed15-f341a8eb469f"
      },
      "execution_count": null,
      "outputs": [
        {
          "output_type": "stream",
          "name": "stdout",
          "text": [
            "Input shape to model: (1, 96, 96, 3)\n",
            "Test Image Encoding Shape: (1, 3, 96, 128)\n"
          ]
        }
      ]
    },
    {
      "cell_type": "code",
      "source": [
        "import numpy as np\n",
        "import tensorflow as tf\n",
        "\n",
        "def resize_image(image_path, target_size=(96, 96)):\n",
        "    image = tf.io.read_file(image_path)\n",
        "    image = tf.image.decode_image(image, channels=3)\n",
        "    image = tf.image.resize(image, target_size)\n",
        "    image = tf.cast(image, tf.float32) / 255.0\n",
        "    return image\n",
        "\n",
        "def img_to_encoding(image_path, model):\n",
        "    # Resize and preprocess the image\n",
        "    img = resize_image(image_path)\n",
        "    img = np.expand_dims(img, axis=0)  # Add batch dimension\n",
        "\n",
        "    # Transpose to (batch_size, channels, height, width)\n",
        "    img = tf.transpose(img, perm=[0, 3, 1, 2])\n",
        "\n",
        "    # Perform prediction\n",
        "    encoding = model.predict_on_batch(img)\n",
        "    return encoding\n",
        "\n",
        "def verify_face(test_encoding, database_encoding, threshold=0.7):\n",
        "    dist = np.linalg.norm(test_encoding - database_encoding)\n",
        "    return dist < threshold\n",
        "\n",
        "# Test encoding\n",
        "test_image_encoding = img_to_encoding(\"images/kibs.jpg\", FRmodel)\n",
        "print(\"Test Image Encoding Shape:\", test_image_encoding.shape)\n",
        "\n",
        "# Load database encoding (make sure this is correctly stored and retrieved)\n",
        "database = {\"X\": np.random.rand(1, 128)}  # Example shape (1, 128), adjust as needed\n",
        "\n",
        "# Compare with database encoding\n",
        "if \"X\" in database:\n",
        "    print(\"Database Encoding Shape:\", database[\"X\"].shape)\n",
        "    is_verified = verify_face(test_image_encoding, database[\"X\"])\n",
        "    print(\"Face Verified:\", is_verified)\n",
        "else:\n",
        "    print(\"No database encoding found for 'X'.\")"
      ],
      "metadata": {
        "colab": {
          "base_uri": "https://localhost:8080/"
        },
        "id": "WYloH3Csf2qG",
        "outputId": "8ef731b6-db58-410f-ea57-744c2df9cd58"
      },
      "execution_count": null,
      "outputs": [
        {
          "output_type": "stream",
          "name": "stdout",
          "text": [
            "Test Image Encoding Shape: (1, 3, 96, 128)\n",
            "Database Encoding Shape: (1, 128)\n",
            "Face Verified: False\n"
          ]
        }
      ]
    },
    {
      "cell_type": "markdown",
      "metadata": {
        "id": "YZP2jy5PekYy"
      },
      "source": [
        "You can change \"`camera_0.jpg`\" (picture of younes) to \"`camera_1.jpg`\" (picture of bertrand) and see the result."
      ]
    },
    {
      "cell_type": "markdown",
      "metadata": {
        "id": "4PmywOIMekYz"
      },
      "source": [
        "Your Happy House is running well. It only lets in authorized persons, and people don't need to carry an ID card around anymore!\n",
        "\n",
        "You've now seen how a state-of-the-art face recognition system works.\n",
        "\n",
        "Although we won't implement it here, here're some ways to further improve the algorithm:\n",
        "- Put more images of each person (under different lighting conditions, taken on different days, etc.) into the database. Then given a new image, compare the new face to multiple pictures of the person. This would increae accuracy.\n",
        "- Crop the images to just contain the face, and less of the \"border\" region around the face. This preprocessing removes some of the irrelevant pixels around the face, and also makes the algorithm more robust.\n"
      ]
    },
    {
      "cell_type": "markdown",
      "metadata": {
        "id": "JIeHHu5HekYz"
      },
      "source": [
        "<font color='blue'>\n",
        "**What you should remember**:\n",
        "- Face verification solves an easier 1:1 matching problem; face recognition addresses a harder 1:K matching problem.\n",
        "- The triplet loss is an effective loss function for training a neural network to learn an encoding of a face image.\n",
        "- The same encoding can be used for verification and recognition. Measuring distances between two images' encodings allows you to determine whether they are pictures of the same person."
      ]
    },
    {
      "cell_type": "markdown",
      "metadata": {
        "id": "sqA54eC4ekY0"
      },
      "source": [
        "Congrats on finishing this assignment!\n"
      ]
    },
    {
      "cell_type": "markdown",
      "metadata": {
        "id": "vs5o31H-ekY1"
      },
      "source": [
        "### References:\n",
        "\n",
        "- Florian Schroff, Dmitry Kalenichenko, James Philbin (2015). [FaceNet: A Unified Embedding for Face Recognition and Clustering](https://arxiv.org/pdf/1503.03832.pdf)\n",
        "- Yaniv Taigman, Ming Yang, Marc'Aurelio Ranzato, Lior Wolf (2014). [DeepFace: Closing the gap to human-level performance in face verification](https://research.fb.com/wp-content/uploads/2016/11/deepface-closing-the-gap-to-human-level-performance-in-face-verification.pdf)\n",
        "- The pretrained model we use is inspired by Victor Sy Wang's implementation and was loaded using his code: https://github.com/iwantooxxoox/Keras-OpenFace.\n",
        "- Our implementation also took a lot of inspiration from the official FaceNet github repository: https://github.com/davidsandberg/facenet\n"
      ]
    }
  ],
  "metadata": {
    "accelerator": "GPU",
    "colab": {
      "provenance": []
    },
    "coursera": {
      "course_slug": "convolutional-neural-networks",
      "graded_item_id": "IaknP",
      "launcher_item_id": "5UMr4"
    },
    "kernelspec": {
      "display_name": "Python 3 (ipykernel)",
      "language": "python",
      "name": "python3"
    },
    "language_info": {
      "codemirror_mode": {
        "name": "ipython",
        "version": 3
      },
      "file_extension": ".py",
      "mimetype": "text/x-python",
      "name": "python",
      "nbconvert_exporter": "python",
      "pygments_lexer": "ipython3",
      "version": "3.12.4"
    }
  },
  "nbformat": 4,
  "nbformat_minor": 0
}